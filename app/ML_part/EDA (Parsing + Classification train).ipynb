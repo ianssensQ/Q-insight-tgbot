{
 "nbformat": 4,
 "nbformat_minor": 0,
 "metadata": {
  "colab": {
   "provenance": [],
   "toc_visible": true,
   "collapsed_sections": [
    "ECdz1sBaw1K5",
    "A4IROQKioQKA",
    "aqGgvIFXNORC",
    "BX9o_h4bO8bL",
    "px9GcmbgT0_9",
    "7mUkAidyt3z0"
   ]
  },
  "kernelspec": {
   "name": "python3",
   "display_name": "Python 3 (ipykernel)",
   "language": "python"
  },
  "language_info": {
   "name": "python"
  },
  "widgets": {
   "application/vnd.jupyter.widget-state+json": {
    "45579b0625134ca09a92149b272da2d1": {
     "model_module": "@jupyter-widgets/controls",
     "model_name": "HBoxModel",
     "model_module_version": "1.5.0",
     "state": {
      "_dom_classes": [],
      "_model_module": "@jupyter-widgets/controls",
      "_model_module_version": "1.5.0",
      "_model_name": "HBoxModel",
      "_view_count": null,
      "_view_module": "@jupyter-widgets/controls",
      "_view_module_version": "1.5.0",
      "_view_name": "HBoxView",
      "box_style": "",
      "children": [
       "IPY_MODEL_7cef8f66b1d944b68a2c19ca22474a87",
       "IPY_MODEL_4eb84cf65f1a4765bb091f8bd6867f88",
       "IPY_MODEL_3314be01cc1743668a3e32639c6ab354"
      ],
      "layout": "IPY_MODEL_ec100bd764774b6199f1c212add178b0"
     }
    },
    "7cef8f66b1d944b68a2c19ca22474a87": {
     "model_module": "@jupyter-widgets/controls",
     "model_name": "HTMLModel",
     "model_module_version": "1.5.0",
     "state": {
      "_dom_classes": [],
      "_model_module": "@jupyter-widgets/controls",
      "_model_module_version": "1.5.0",
      "_model_name": "HTMLModel",
      "_view_count": null,
      "_view_module": "@jupyter-widgets/controls",
      "_view_module_version": "1.5.0",
      "_view_name": "HTMLView",
      "description": "",
      "description_tooltip": null,
      "layout": "IPY_MODEL_55342ada972e4077ac7434a14d48bee8",
      "placeholder": "​",
      "style": "IPY_MODEL_9fd0798d5bfb44e489d55b12381c3c14",
      "value": "config.json: 100%"
     }
    },
    "4eb84cf65f1a4765bb091f8bd6867f88": {
     "model_module": "@jupyter-widgets/controls",
     "model_name": "FloatProgressModel",
     "model_module_version": "1.5.0",
     "state": {
      "_dom_classes": [],
      "_model_module": "@jupyter-widgets/controls",
      "_model_module_version": "1.5.0",
      "_model_name": "FloatProgressModel",
      "_view_count": null,
      "_view_module": "@jupyter-widgets/controls",
      "_view_module_version": "1.5.0",
      "_view_name": "ProgressView",
      "bar_style": "success",
      "description": "",
      "description_tooltip": null,
      "layout": "IPY_MODEL_7146c355f88b476b951ea8d4b1c5e858",
      "max": 1462,
      "min": 0,
      "orientation": "horizontal",
      "style": "IPY_MODEL_4dbe152c05544874be9d4d6a55f597e1",
      "value": 1462
     }
    },
    "3314be01cc1743668a3e32639c6ab354": {
     "model_module": "@jupyter-widgets/controls",
     "model_name": "HTMLModel",
     "model_module_version": "1.5.0",
     "state": {
      "_dom_classes": [],
      "_model_module": "@jupyter-widgets/controls",
      "_model_module_version": "1.5.0",
      "_model_name": "HTMLModel",
      "_view_count": null,
      "_view_module": "@jupyter-widgets/controls",
      "_view_module_version": "1.5.0",
      "_view_name": "HTMLView",
      "description": "",
      "description_tooltip": null,
      "layout": "IPY_MODEL_10733a260e594a7b9938b6b9ee4bb005",
      "placeholder": "​",
      "style": "IPY_MODEL_b98f4828519f41c2b148a5cb5feb52df",
      "value": " 1.46k/1.46k [00:00&lt;00:00, 26.1kB/s]"
     }
    },
    "ec100bd764774b6199f1c212add178b0": {
     "model_module": "@jupyter-widgets/base",
     "model_name": "LayoutModel",
     "model_module_version": "1.2.0",
     "state": {
      "_model_module": "@jupyter-widgets/base",
      "_model_module_version": "1.2.0",
      "_model_name": "LayoutModel",
      "_view_count": null,
      "_view_module": "@jupyter-widgets/base",
      "_view_module_version": "1.2.0",
      "_view_name": "LayoutView",
      "align_content": null,
      "align_items": null,
      "align_self": null,
      "border": null,
      "bottom": null,
      "display": null,
      "flex": null,
      "flex_flow": null,
      "grid_area": null,
      "grid_auto_columns": null,
      "grid_auto_flow": null,
      "grid_auto_rows": null,
      "grid_column": null,
      "grid_gap": null,
      "grid_row": null,
      "grid_template_areas": null,
      "grid_template_columns": null,
      "grid_template_rows": null,
      "height": null,
      "justify_content": null,
      "justify_items": null,
      "left": null,
      "margin": null,
      "max_height": null,
      "max_width": null,
      "min_height": null,
      "min_width": null,
      "object_fit": null,
      "object_position": null,
      "order": null,
      "overflow": null,
      "overflow_x": null,
      "overflow_y": null,
      "padding": null,
      "right": null,
      "top": null,
      "visibility": null,
      "width": null
     }
    },
    "55342ada972e4077ac7434a14d48bee8": {
     "model_module": "@jupyter-widgets/base",
     "model_name": "LayoutModel",
     "model_module_version": "1.2.0",
     "state": {
      "_model_module": "@jupyter-widgets/base",
      "_model_module_version": "1.2.0",
      "_model_name": "LayoutModel",
      "_view_count": null,
      "_view_module": "@jupyter-widgets/base",
      "_view_module_version": "1.2.0",
      "_view_name": "LayoutView",
      "align_content": null,
      "align_items": null,
      "align_self": null,
      "border": null,
      "bottom": null,
      "display": null,
      "flex": null,
      "flex_flow": null,
      "grid_area": null,
      "grid_auto_columns": null,
      "grid_auto_flow": null,
      "grid_auto_rows": null,
      "grid_column": null,
      "grid_gap": null,
      "grid_row": null,
      "grid_template_areas": null,
      "grid_template_columns": null,
      "grid_template_rows": null,
      "height": null,
      "justify_content": null,
      "justify_items": null,
      "left": null,
      "margin": null,
      "max_height": null,
      "max_width": null,
      "min_height": null,
      "min_width": null,
      "object_fit": null,
      "object_position": null,
      "order": null,
      "overflow": null,
      "overflow_x": null,
      "overflow_y": null,
      "padding": null,
      "right": null,
      "top": null,
      "visibility": null,
      "width": null
     }
    },
    "9fd0798d5bfb44e489d55b12381c3c14": {
     "model_module": "@jupyter-widgets/controls",
     "model_name": "DescriptionStyleModel",
     "model_module_version": "1.5.0",
     "state": {
      "_model_module": "@jupyter-widgets/controls",
      "_model_module_version": "1.5.0",
      "_model_name": "DescriptionStyleModel",
      "_view_count": null,
      "_view_module": "@jupyter-widgets/base",
      "_view_module_version": "1.2.0",
      "_view_name": "StyleView",
      "description_width": ""
     }
    },
    "7146c355f88b476b951ea8d4b1c5e858": {
     "model_module": "@jupyter-widgets/base",
     "model_name": "LayoutModel",
     "model_module_version": "1.2.0",
     "state": {
      "_model_module": "@jupyter-widgets/base",
      "_model_module_version": "1.2.0",
      "_model_name": "LayoutModel",
      "_view_count": null,
      "_view_module": "@jupyter-widgets/base",
      "_view_module_version": "1.2.0",
      "_view_name": "LayoutView",
      "align_content": null,
      "align_items": null,
      "align_self": null,
      "border": null,
      "bottom": null,
      "display": null,
      "flex": null,
      "flex_flow": null,
      "grid_area": null,
      "grid_auto_columns": null,
      "grid_auto_flow": null,
      "grid_auto_rows": null,
      "grid_column": null,
      "grid_gap": null,
      "grid_row": null,
      "grid_template_areas": null,
      "grid_template_columns": null,
      "grid_template_rows": null,
      "height": null,
      "justify_content": null,
      "justify_items": null,
      "left": null,
      "margin": null,
      "max_height": null,
      "max_width": null,
      "min_height": null,
      "min_width": null,
      "object_fit": null,
      "object_position": null,
      "order": null,
      "overflow": null,
      "overflow_x": null,
      "overflow_y": null,
      "padding": null,
      "right": null,
      "top": null,
      "visibility": null,
      "width": null
     }
    },
    "4dbe152c05544874be9d4d6a55f597e1": {
     "model_module": "@jupyter-widgets/controls",
     "model_name": "ProgressStyleModel",
     "model_module_version": "1.5.0",
     "state": {
      "_model_module": "@jupyter-widgets/controls",
      "_model_module_version": "1.5.0",
      "_model_name": "ProgressStyleModel",
      "_view_count": null,
      "_view_module": "@jupyter-widgets/base",
      "_view_module_version": "1.2.0",
      "_view_name": "StyleView",
      "bar_color": null,
      "description_width": ""
     }
    },
    "10733a260e594a7b9938b6b9ee4bb005": {
     "model_module": "@jupyter-widgets/base",
     "model_name": "LayoutModel",
     "model_module_version": "1.2.0",
     "state": {
      "_model_module": "@jupyter-widgets/base",
      "_model_module_version": "1.2.0",
      "_model_name": "LayoutModel",
      "_view_count": null,
      "_view_module": "@jupyter-widgets/base",
      "_view_module_version": "1.2.0",
      "_view_name": "LayoutView",
      "align_content": null,
      "align_items": null,
      "align_self": null,
      "border": null,
      "bottom": null,
      "display": null,
      "flex": null,
      "flex_flow": null,
      "grid_area": null,
      "grid_auto_columns": null,
      "grid_auto_flow": null,
      "grid_auto_rows": null,
      "grid_column": null,
      "grid_gap": null,
      "grid_row": null,
      "grid_template_areas": null,
      "grid_template_columns": null,
      "grid_template_rows": null,
      "height": null,
      "justify_content": null,
      "justify_items": null,
      "left": null,
      "margin": null,
      "max_height": null,
      "max_width": null,
      "min_height": null,
      "min_width": null,
      "object_fit": null,
      "object_position": null,
      "order": null,
      "overflow": null,
      "overflow_x": null,
      "overflow_y": null,
      "padding": null,
      "right": null,
      "top": null,
      "visibility": null,
      "width": null
     }
    },
    "b98f4828519f41c2b148a5cb5feb52df": {
     "model_module": "@jupyter-widgets/controls",
     "model_name": "DescriptionStyleModel",
     "model_module_version": "1.5.0",
     "state": {
      "_model_module": "@jupyter-widgets/controls",
      "_model_module_version": "1.5.0",
      "_model_name": "DescriptionStyleModel",
      "_view_count": null,
      "_view_module": "@jupyter-widgets/base",
      "_view_module_version": "1.2.0",
      "_view_name": "StyleView",
      "description_width": ""
     }
    },
    "ed95c2b096b94600bccf4b76af7d066c": {
     "model_module": "@jupyter-widgets/controls",
     "model_name": "HBoxModel",
     "model_module_version": "1.5.0",
     "state": {
      "_dom_classes": [],
      "_model_module": "@jupyter-widgets/controls",
      "_model_module_version": "1.5.0",
      "_model_name": "HBoxModel",
      "_view_count": null,
      "_view_module": "@jupyter-widgets/controls",
      "_view_module_version": "1.5.0",
      "_view_name": "HBoxView",
      "box_style": "",
      "children": [
       "IPY_MODEL_e9fd98a215bd4148b721751d33b7c69b",
       "IPY_MODEL_a13d8a2010fa4de792b67e9b1f65db67",
       "IPY_MODEL_2862ed26647d4db1b3e1f29ed5d72738"
      ],
      "layout": "IPY_MODEL_24ea319c8b684ffbade68cffb1c6fd7d"
     }
    },
    "e9fd98a215bd4148b721751d33b7c69b": {
     "model_module": "@jupyter-widgets/controls",
     "model_name": "HTMLModel",
     "model_module_version": "1.5.0",
     "state": {
      "_dom_classes": [],
      "_model_module": "@jupyter-widgets/controls",
      "_model_module_version": "1.5.0",
      "_model_name": "HTMLModel",
      "_view_count": null,
      "_view_module": "@jupyter-widgets/controls",
      "_view_module_version": "1.5.0",
      "_view_name": "HTMLView",
      "description": "",
      "description_tooltip": null,
      "layout": "IPY_MODEL_a3e35a5bf78a498bb653d5ebc32e63b5",
      "placeholder": "​",
      "style": "IPY_MODEL_df960a606a74407db6fb14bc20baec82",
      "value": "model.safetensors: 100%"
     }
    },
    "a13d8a2010fa4de792b67e9b1f65db67": {
     "model_module": "@jupyter-widgets/controls",
     "model_name": "FloatProgressModel",
     "model_module_version": "1.5.0",
     "state": {
      "_dom_classes": [],
      "_model_module": "@jupyter-widgets/controls",
      "_model_module_version": "1.5.0",
      "_model_name": "FloatProgressModel",
      "_view_count": null,
      "_view_module": "@jupyter-widgets/controls",
      "_view_module_version": "1.5.0",
      "_view_name": "ProgressView",
      "bar_style": "success",
      "description": "",
      "description_tooltip": null,
      "layout": "IPY_MODEL_abd6ec3e3ced4172ad2d858847b3de4c",
      "max": 1518827380,
      "min": 0,
      "orientation": "horizontal",
      "style": "IPY_MODEL_67eed6241c7b4cda85bcb69bef8591a9",
      "value": 1518827380
     }
    },
    "2862ed26647d4db1b3e1f29ed5d72738": {
     "model_module": "@jupyter-widgets/controls",
     "model_name": "HTMLModel",
     "model_module_version": "1.5.0",
     "state": {
      "_dom_classes": [],
      "_model_module": "@jupyter-widgets/controls",
      "_model_module_version": "1.5.0",
      "_model_name": "HTMLModel",
      "_view_count": null,
      "_view_module": "@jupyter-widgets/controls",
      "_view_module_version": "1.5.0",
      "_view_name": "HTMLView",
      "description": "",
      "description_tooltip": null,
      "layout": "IPY_MODEL_2d8542239357480fa10ff47799d47680",
      "placeholder": "​",
      "style": "IPY_MODEL_908220902f4942c18c22be5994deefc1",
      "value": " 1.52G/1.52G [00:24&lt;00:00, 79.8MB/s]"
     }
    },
    "24ea319c8b684ffbade68cffb1c6fd7d": {
     "model_module": "@jupyter-widgets/base",
     "model_name": "LayoutModel",
     "model_module_version": "1.2.0",
     "state": {
      "_model_module": "@jupyter-widgets/base",
      "_model_module_version": "1.2.0",
      "_model_name": "LayoutModel",
      "_view_count": null,
      "_view_module": "@jupyter-widgets/base",
      "_view_module_version": "1.2.0",
      "_view_name": "LayoutView",
      "align_content": null,
      "align_items": null,
      "align_self": null,
      "border": null,
      "bottom": null,
      "display": null,
      "flex": null,
      "flex_flow": null,
      "grid_area": null,
      "grid_auto_columns": null,
      "grid_auto_flow": null,
      "grid_auto_rows": null,
      "grid_column": null,
      "grid_gap": null,
      "grid_row": null,
      "grid_template_areas": null,
      "grid_template_columns": null,
      "grid_template_rows": null,
      "height": null,
      "justify_content": null,
      "justify_items": null,
      "left": null,
      "margin": null,
      "max_height": null,
      "max_width": null,
      "min_height": null,
      "min_width": null,
      "object_fit": null,
      "object_position": null,
      "order": null,
      "overflow": null,
      "overflow_x": null,
      "overflow_y": null,
      "padding": null,
      "right": null,
      "top": null,
      "visibility": null,
      "width": null
     }
    },
    "a3e35a5bf78a498bb653d5ebc32e63b5": {
     "model_module": "@jupyter-widgets/base",
     "model_name": "LayoutModel",
     "model_module_version": "1.2.0",
     "state": {
      "_model_module": "@jupyter-widgets/base",
      "_model_module_version": "1.2.0",
      "_model_name": "LayoutModel",
      "_view_count": null,
      "_view_module": "@jupyter-widgets/base",
      "_view_module_version": "1.2.0",
      "_view_name": "LayoutView",
      "align_content": null,
      "align_items": null,
      "align_self": null,
      "border": null,
      "bottom": null,
      "display": null,
      "flex": null,
      "flex_flow": null,
      "grid_area": null,
      "grid_auto_columns": null,
      "grid_auto_flow": null,
      "grid_auto_rows": null,
      "grid_column": null,
      "grid_gap": null,
      "grid_row": null,
      "grid_template_areas": null,
      "grid_template_columns": null,
      "grid_template_rows": null,
      "height": null,
      "justify_content": null,
      "justify_items": null,
      "left": null,
      "margin": null,
      "max_height": null,
      "max_width": null,
      "min_height": null,
      "min_width": null,
      "object_fit": null,
      "object_position": null,
      "order": null,
      "overflow": null,
      "overflow_x": null,
      "overflow_y": null,
      "padding": null,
      "right": null,
      "top": null,
      "visibility": null,
      "width": null
     }
    },
    "df960a606a74407db6fb14bc20baec82": {
     "model_module": "@jupyter-widgets/controls",
     "model_name": "DescriptionStyleModel",
     "model_module_version": "1.5.0",
     "state": {
      "_model_module": "@jupyter-widgets/controls",
      "_model_module_version": "1.5.0",
      "_model_name": "DescriptionStyleModel",
      "_view_count": null,
      "_view_module": "@jupyter-widgets/base",
      "_view_module_version": "1.2.0",
      "_view_name": "StyleView",
      "description_width": ""
     }
    },
    "abd6ec3e3ced4172ad2d858847b3de4c": {
     "model_module": "@jupyter-widgets/base",
     "model_name": "LayoutModel",
     "model_module_version": "1.2.0",
     "state": {
      "_model_module": "@jupyter-widgets/base",
      "_model_module_version": "1.2.0",
      "_model_name": "LayoutModel",
      "_view_count": null,
      "_view_module": "@jupyter-widgets/base",
      "_view_module_version": "1.2.0",
      "_view_name": "LayoutView",
      "align_content": null,
      "align_items": null,
      "align_self": null,
      "border": null,
      "bottom": null,
      "display": null,
      "flex": null,
      "flex_flow": null,
      "grid_area": null,
      "grid_auto_columns": null,
      "grid_auto_flow": null,
      "grid_auto_rows": null,
      "grid_column": null,
      "grid_gap": null,
      "grid_row": null,
      "grid_template_areas": null,
      "grid_template_columns": null,
      "grid_template_rows": null,
      "height": null,
      "justify_content": null,
      "justify_items": null,
      "left": null,
      "margin": null,
      "max_height": null,
      "max_width": null,
      "min_height": null,
      "min_width": null,
      "object_fit": null,
      "object_position": null,
      "order": null,
      "overflow": null,
      "overflow_x": null,
      "overflow_y": null,
      "padding": null,
      "right": null,
      "top": null,
      "visibility": null,
      "width": null
     }
    },
    "67eed6241c7b4cda85bcb69bef8591a9": {
     "model_module": "@jupyter-widgets/controls",
     "model_name": "ProgressStyleModel",
     "model_module_version": "1.5.0",
     "state": {
      "_model_module": "@jupyter-widgets/controls",
      "_model_module_version": "1.5.0",
      "_model_name": "ProgressStyleModel",
      "_view_count": null,
      "_view_module": "@jupyter-widgets/base",
      "_view_module_version": "1.2.0",
      "_view_name": "StyleView",
      "bar_color": null,
      "description_width": ""
     }
    },
    "2d8542239357480fa10ff47799d47680": {
     "model_module": "@jupyter-widgets/base",
     "model_name": "LayoutModel",
     "model_module_version": "1.2.0",
     "state": {
      "_model_module": "@jupyter-widgets/base",
      "_model_module_version": "1.2.0",
      "_model_name": "LayoutModel",
      "_view_count": null,
      "_view_module": "@jupyter-widgets/base",
      "_view_module_version": "1.2.0",
      "_view_name": "LayoutView",
      "align_content": null,
      "align_items": null,
      "align_self": null,
      "border": null,
      "bottom": null,
      "display": null,
      "flex": null,
      "flex_flow": null,
      "grid_area": null,
      "grid_auto_columns": null,
      "grid_auto_flow": null,
      "grid_auto_rows": null,
      "grid_column": null,
      "grid_gap": null,
      "grid_row": null,
      "grid_template_areas": null,
      "grid_template_columns": null,
      "grid_template_rows": null,
      "height": null,
      "justify_content": null,
      "justify_items": null,
      "left": null,
      "margin": null,
      "max_height": null,
      "max_width": null,
      "min_height": null,
      "min_width": null,
      "object_fit": null,
      "object_position": null,
      "order": null,
      "overflow": null,
      "overflow_x": null,
      "overflow_y": null,
      "padding": null,
      "right": null,
      "top": null,
      "visibility": null,
      "width": null
     }
    },
    "908220902f4942c18c22be5994deefc1": {
     "model_module": "@jupyter-widgets/controls",
     "model_name": "DescriptionStyleModel",
     "model_module_version": "1.5.0",
     "state": {
      "_model_module": "@jupyter-widgets/controls",
      "_model_module_version": "1.5.0",
      "_model_name": "DescriptionStyleModel",
      "_view_count": null,
      "_view_module": "@jupyter-widgets/base",
      "_view_module_version": "1.2.0",
      "_view_name": "StyleView",
      "description_width": ""
     }
    },
    "83c1481390cf4359b9438f32e45e7483": {
     "model_module": "@jupyter-widgets/controls",
     "model_name": "HBoxModel",
     "model_module_version": "1.5.0",
     "state": {
      "_dom_classes": [],
      "_model_module": "@jupyter-widgets/controls",
      "_model_module_version": "1.5.0",
      "_model_name": "HBoxModel",
      "_view_count": null,
      "_view_module": "@jupyter-widgets/controls",
      "_view_module_version": "1.5.0",
      "_view_name": "HBoxView",
      "box_style": "",
      "children": [
       "IPY_MODEL_fd8bfd88f40f4f41b40275a48db337d9",
       "IPY_MODEL_7d790f4e5612421896f6e823fff7d9dd",
       "IPY_MODEL_6541ebf2947b4f89b3aca3a3c2dd2fb4"
      ],
      "layout": "IPY_MODEL_53c6e91a9b2d469aaf9a0b21a4471e5f"
     }
    },
    "fd8bfd88f40f4f41b40275a48db337d9": {
     "model_module": "@jupyter-widgets/controls",
     "model_name": "HTMLModel",
     "model_module_version": "1.5.0",
     "state": {
      "_dom_classes": [],
      "_model_module": "@jupyter-widgets/controls",
      "_model_module_version": "1.5.0",
      "_model_name": "HTMLModel",
      "_view_count": null,
      "_view_module": "@jupyter-widgets/controls",
      "_view_module_version": "1.5.0",
      "_view_name": "HTMLView",
      "description": "",
      "description_tooltip": null,
      "layout": "IPY_MODEL_886638aa6b734efaab7df299b04382aa",
      "placeholder": "​",
      "style": "IPY_MODEL_68bfad7a714d4995b36bd7a780f2d8d2",
      "value": "generation_config.json: 100%"
     }
    },
    "7d790f4e5612421896f6e823fff7d9dd": {
     "model_module": "@jupyter-widgets/controls",
     "model_name": "FloatProgressModel",
     "model_module_version": "1.5.0",
     "state": {
      "_dom_classes": [],
      "_model_module": "@jupyter-widgets/controls",
      "_model_module_version": "1.5.0",
      "_model_name": "FloatProgressModel",
      "_view_count": null,
      "_view_module": "@jupyter-widgets/controls",
      "_view_module_version": "1.5.0",
      "_view_name": "ProgressView",
      "bar_style": "success",
      "description": "",
      "description_tooltip": null,
      "layout": "IPY_MODEL_3c4fe6e5f1b74dacb20b82c6cf62ab64",
      "max": 281,
      "min": 0,
      "orientation": "horizontal",
      "style": "IPY_MODEL_6aa86879f64441619d478fc478acd3d7",
      "value": 281
     }
    },
    "6541ebf2947b4f89b3aca3a3c2dd2fb4": {
     "model_module": "@jupyter-widgets/controls",
     "model_name": "HTMLModel",
     "model_module_version": "1.5.0",
     "state": {
      "_dom_classes": [],
      "_model_module": "@jupyter-widgets/controls",
      "_model_module_version": "1.5.0",
      "_model_name": "HTMLModel",
      "_view_count": null,
      "_view_module": "@jupyter-widgets/controls",
      "_view_module_version": "1.5.0",
      "_view_name": "HTMLView",
      "description": "",
      "description_tooltip": null,
      "layout": "IPY_MODEL_01009a9246be4545bcd62321d729f41b",
      "placeholder": "​",
      "style": "IPY_MODEL_5f8b91a4147d415cb15d16523d9d677a",
      "value": " 281/281 [00:00&lt;00:00, 16.7kB/s]"
     }
    },
    "53c6e91a9b2d469aaf9a0b21a4471e5f": {
     "model_module": "@jupyter-widgets/base",
     "model_name": "LayoutModel",
     "model_module_version": "1.2.0",
     "state": {
      "_model_module": "@jupyter-widgets/base",
      "_model_module_version": "1.2.0",
      "_model_name": "LayoutModel",
      "_view_count": null,
      "_view_module": "@jupyter-widgets/base",
      "_view_module_version": "1.2.0",
      "_view_name": "LayoutView",
      "align_content": null,
      "align_items": null,
      "align_self": null,
      "border": null,
      "bottom": null,
      "display": null,
      "flex": null,
      "flex_flow": null,
      "grid_area": null,
      "grid_auto_columns": null,
      "grid_auto_flow": null,
      "grid_auto_rows": null,
      "grid_column": null,
      "grid_gap": null,
      "grid_row": null,
      "grid_template_areas": null,
      "grid_template_columns": null,
      "grid_template_rows": null,
      "height": null,
      "justify_content": null,
      "justify_items": null,
      "left": null,
      "margin": null,
      "max_height": null,
      "max_width": null,
      "min_height": null,
      "min_width": null,
      "object_fit": null,
      "object_position": null,
      "order": null,
      "overflow": null,
      "overflow_x": null,
      "overflow_y": null,
      "padding": null,
      "right": null,
      "top": null,
      "visibility": null,
      "width": null
     }
    },
    "886638aa6b734efaab7df299b04382aa": {
     "model_module": "@jupyter-widgets/base",
     "model_name": "LayoutModel",
     "model_module_version": "1.2.0",
     "state": {
      "_model_module": "@jupyter-widgets/base",
      "_model_module_version": "1.2.0",
      "_model_name": "LayoutModel",
      "_view_count": null,
      "_view_module": "@jupyter-widgets/base",
      "_view_module_version": "1.2.0",
      "_view_name": "LayoutView",
      "align_content": null,
      "align_items": null,
      "align_self": null,
      "border": null,
      "bottom": null,
      "display": null,
      "flex": null,
      "flex_flow": null,
      "grid_area": null,
      "grid_auto_columns": null,
      "grid_auto_flow": null,
      "grid_auto_rows": null,
      "grid_column": null,
      "grid_gap": null,
      "grid_row": null,
      "grid_template_areas": null,
      "grid_template_columns": null,
      "grid_template_rows": null,
      "height": null,
      "justify_content": null,
      "justify_items": null,
      "left": null,
      "margin": null,
      "max_height": null,
      "max_width": null,
      "min_height": null,
      "min_width": null,
      "object_fit": null,
      "object_position": null,
      "order": null,
      "overflow": null,
      "overflow_x": null,
      "overflow_y": null,
      "padding": null,
      "right": null,
      "top": null,
      "visibility": null,
      "width": null
     }
    },
    "68bfad7a714d4995b36bd7a780f2d8d2": {
     "model_module": "@jupyter-widgets/controls",
     "model_name": "DescriptionStyleModel",
     "model_module_version": "1.5.0",
     "state": {
      "_model_module": "@jupyter-widgets/controls",
      "_model_module_version": "1.5.0",
      "_model_name": "DescriptionStyleModel",
      "_view_count": null,
      "_view_module": "@jupyter-widgets/base",
      "_view_module_version": "1.2.0",
      "_view_name": "StyleView",
      "description_width": ""
     }
    },
    "3c4fe6e5f1b74dacb20b82c6cf62ab64": {
     "model_module": "@jupyter-widgets/base",
     "model_name": "LayoutModel",
     "model_module_version": "1.2.0",
     "state": {
      "_model_module": "@jupyter-widgets/base",
      "_model_module_version": "1.2.0",
      "_model_name": "LayoutModel",
      "_view_count": null,
      "_view_module": "@jupyter-widgets/base",
      "_view_module_version": "1.2.0",
      "_view_name": "LayoutView",
      "align_content": null,
      "align_items": null,
      "align_self": null,
      "border": null,
      "bottom": null,
      "display": null,
      "flex": null,
      "flex_flow": null,
      "grid_area": null,
      "grid_auto_columns": null,
      "grid_auto_flow": null,
      "grid_auto_rows": null,
      "grid_column": null,
      "grid_gap": null,
      "grid_row": null,
      "grid_template_areas": null,
      "grid_template_columns": null,
      "grid_template_rows": null,
      "height": null,
      "justify_content": null,
      "justify_items": null,
      "left": null,
      "margin": null,
      "max_height": null,
      "max_width": null,
      "min_height": null,
      "min_width": null,
      "object_fit": null,
      "object_position": null,
      "order": null,
      "overflow": null,
      "overflow_x": null,
      "overflow_y": null,
      "padding": null,
      "right": null,
      "top": null,
      "visibility": null,
      "width": null
     }
    },
    "6aa86879f64441619d478fc478acd3d7": {
     "model_module": "@jupyter-widgets/controls",
     "model_name": "ProgressStyleModel",
     "model_module_version": "1.5.0",
     "state": {
      "_model_module": "@jupyter-widgets/controls",
      "_model_module_version": "1.5.0",
      "_model_name": "ProgressStyleModel",
      "_view_count": null,
      "_view_module": "@jupyter-widgets/base",
      "_view_module_version": "1.2.0",
      "_view_name": "StyleView",
      "bar_color": null,
      "description_width": ""
     }
    },
    "01009a9246be4545bcd62321d729f41b": {
     "model_module": "@jupyter-widgets/base",
     "model_name": "LayoutModel",
     "model_module_version": "1.2.0",
     "state": {
      "_model_module": "@jupyter-widgets/base",
      "_model_module_version": "1.2.0",
      "_model_name": "LayoutModel",
      "_view_count": null,
      "_view_module": "@jupyter-widgets/base",
      "_view_module_version": "1.2.0",
      "_view_name": "LayoutView",
      "align_content": null,
      "align_items": null,
      "align_self": null,
      "border": null,
      "bottom": null,
      "display": null,
      "flex": null,
      "flex_flow": null,
      "grid_area": null,
      "grid_auto_columns": null,
      "grid_auto_flow": null,
      "grid_auto_rows": null,
      "grid_column": null,
      "grid_gap": null,
      "grid_row": null,
      "grid_template_areas": null,
      "grid_template_columns": null,
      "grid_template_rows": null,
      "height": null,
      "justify_content": null,
      "justify_items": null,
      "left": null,
      "margin": null,
      "max_height": null,
      "max_width": null,
      "min_height": null,
      "min_width": null,
      "object_fit": null,
      "object_position": null,
      "order": null,
      "overflow": null,
      "overflow_x": null,
      "overflow_y": null,
      "padding": null,
      "right": null,
      "top": null,
      "visibility": null,
      "width": null
     }
    },
    "5f8b91a4147d415cb15d16523d9d677a": {
     "model_module": "@jupyter-widgets/controls",
     "model_name": "DescriptionStyleModel",
     "model_module_version": "1.5.0",
     "state": {
      "_model_module": "@jupyter-widgets/controls",
      "_model_module_version": "1.5.0",
      "_model_name": "DescriptionStyleModel",
      "_view_count": null,
      "_view_module": "@jupyter-widgets/base",
      "_view_module_version": "1.2.0",
      "_view_name": "StyleView",
      "description_width": ""
     }
    },
    "6f9f7cb8342845ceb06decf1920e7ae6": {
     "model_module": "@jupyter-widgets/controls",
     "model_name": "HBoxModel",
     "model_module_version": "1.5.0",
     "state": {
      "_dom_classes": [],
      "_model_module": "@jupyter-widgets/controls",
      "_model_module_version": "1.5.0",
      "_model_name": "HBoxModel",
      "_view_count": null,
      "_view_module": "@jupyter-widgets/controls",
      "_view_module_version": "1.5.0",
      "_view_name": "HBoxView",
      "box_style": "",
      "children": [
       "IPY_MODEL_33137303e9f44f30849cdac0f16c5e72",
       "IPY_MODEL_2a4852334c5c48ca80b95016944ec868",
       "IPY_MODEL_ff769f98d6604f67b3220321dfd2ee2e"
      ],
      "layout": "IPY_MODEL_e87e9d41b9a945bbb58b19713d81d863"
     }
    },
    "33137303e9f44f30849cdac0f16c5e72": {
     "model_module": "@jupyter-widgets/controls",
     "model_name": "HTMLModel",
     "model_module_version": "1.5.0",
     "state": {
      "_dom_classes": [],
      "_model_module": "@jupyter-widgets/controls",
      "_model_module_version": "1.5.0",
      "_model_name": "HTMLModel",
      "_view_count": null,
      "_view_module": "@jupyter-widgets/controls",
      "_view_module_version": "1.5.0",
      "_view_name": "HTMLView",
      "description": "",
      "description_tooltip": null,
      "layout": "IPY_MODEL_c8b7caeb9a4542a491ccac3ee59a4f38",
      "placeholder": "​",
      "style": "IPY_MODEL_f133636abc8f4292ad1e1476d4112491",
      "value": "tokenizer_config.json: 100%"
     }
    },
    "2a4852334c5c48ca80b95016944ec868": {
     "model_module": "@jupyter-widgets/controls",
     "model_name": "FloatProgressModel",
     "model_module_version": "1.5.0",
     "state": {
      "_dom_classes": [],
      "_model_module": "@jupyter-widgets/controls",
      "_model_module_version": "1.5.0",
      "_model_name": "FloatProgressModel",
      "_view_count": null,
      "_view_module": "@jupyter-widgets/controls",
      "_view_module_version": "1.5.0",
      "_view_name": "ProgressView",
      "bar_style": "success",
      "description": "",
      "description_tooltip": null,
      "layout": "IPY_MODEL_9ad45c0481f548d4aa05e209f0664e4f",
      "max": 1194,
      "min": 0,
      "orientation": "horizontal",
      "style": "IPY_MODEL_0c6b69911c2349f2a60ee98be0f5787f",
      "value": 1194
     }
    },
    "ff769f98d6604f67b3220321dfd2ee2e": {
     "model_module": "@jupyter-widgets/controls",
     "model_name": "HTMLModel",
     "model_module_version": "1.5.0",
     "state": {
      "_dom_classes": [],
      "_model_module": "@jupyter-widgets/controls",
      "_model_module_version": "1.5.0",
      "_model_name": "HTMLModel",
      "_view_count": null,
      "_view_module": "@jupyter-widgets/controls",
      "_view_module_version": "1.5.0",
      "_view_name": "HTMLView",
      "description": "",
      "description_tooltip": null,
      "layout": "IPY_MODEL_84c7ad77587c4db795131789a3008bbf",
      "placeholder": "​",
      "style": "IPY_MODEL_3951d6e0f4924138bedf16f0e7283bb9",
      "value": " 1.19k/1.19k [00:00&lt;00:00, 59.7kB/s]"
     }
    },
    "e87e9d41b9a945bbb58b19713d81d863": {
     "model_module": "@jupyter-widgets/base",
     "model_name": "LayoutModel",
     "model_module_version": "1.2.0",
     "state": {
      "_model_module": "@jupyter-widgets/base",
      "_model_module_version": "1.2.0",
      "_model_name": "LayoutModel",
      "_view_count": null,
      "_view_module": "@jupyter-widgets/base",
      "_view_module_version": "1.2.0",
      "_view_name": "LayoutView",
      "align_content": null,
      "align_items": null,
      "align_self": null,
      "border": null,
      "bottom": null,
      "display": null,
      "flex": null,
      "flex_flow": null,
      "grid_area": null,
      "grid_auto_columns": null,
      "grid_auto_flow": null,
      "grid_auto_rows": null,
      "grid_column": null,
      "grid_gap": null,
      "grid_row": null,
      "grid_template_areas": null,
      "grid_template_columns": null,
      "grid_template_rows": null,
      "height": null,
      "justify_content": null,
      "justify_items": null,
      "left": null,
      "margin": null,
      "max_height": null,
      "max_width": null,
      "min_height": null,
      "min_width": null,
      "object_fit": null,
      "object_position": null,
      "order": null,
      "overflow": null,
      "overflow_x": null,
      "overflow_y": null,
      "padding": null,
      "right": null,
      "top": null,
      "visibility": null,
      "width": null
     }
    },
    "c8b7caeb9a4542a491ccac3ee59a4f38": {
     "model_module": "@jupyter-widgets/base",
     "model_name": "LayoutModel",
     "model_module_version": "1.2.0",
     "state": {
      "_model_module": "@jupyter-widgets/base",
      "_model_module_version": "1.2.0",
      "_model_name": "LayoutModel",
      "_view_count": null,
      "_view_module": "@jupyter-widgets/base",
      "_view_module_version": "1.2.0",
      "_view_name": "LayoutView",
      "align_content": null,
      "align_items": null,
      "align_self": null,
      "border": null,
      "bottom": null,
      "display": null,
      "flex": null,
      "flex_flow": null,
      "grid_area": null,
      "grid_auto_columns": null,
      "grid_auto_flow": null,
      "grid_auto_rows": null,
      "grid_column": null,
      "grid_gap": null,
      "grid_row": null,
      "grid_template_areas": null,
      "grid_template_columns": null,
      "grid_template_rows": null,
      "height": null,
      "justify_content": null,
      "justify_items": null,
      "left": null,
      "margin": null,
      "max_height": null,
      "max_width": null,
      "min_height": null,
      "min_width": null,
      "object_fit": null,
      "object_position": null,
      "order": null,
      "overflow": null,
      "overflow_x": null,
      "overflow_y": null,
      "padding": null,
      "right": null,
      "top": null,
      "visibility": null,
      "width": null
     }
    },
    "f133636abc8f4292ad1e1476d4112491": {
     "model_module": "@jupyter-widgets/controls",
     "model_name": "DescriptionStyleModel",
     "model_module_version": "1.5.0",
     "state": {
      "_model_module": "@jupyter-widgets/controls",
      "_model_module_version": "1.5.0",
      "_model_name": "DescriptionStyleModel",
      "_view_count": null,
      "_view_module": "@jupyter-widgets/base",
      "_view_module_version": "1.2.0",
      "_view_name": "StyleView",
      "description_width": ""
     }
    },
    "9ad45c0481f548d4aa05e209f0664e4f": {
     "model_module": "@jupyter-widgets/base",
     "model_name": "LayoutModel",
     "model_module_version": "1.2.0",
     "state": {
      "_model_module": "@jupyter-widgets/base",
      "_model_module_version": "1.2.0",
      "_model_name": "LayoutModel",
      "_view_count": null,
      "_view_module": "@jupyter-widgets/base",
      "_view_module_version": "1.2.0",
      "_view_name": "LayoutView",
      "align_content": null,
      "align_items": null,
      "align_self": null,
      "border": null,
      "bottom": null,
      "display": null,
      "flex": null,
      "flex_flow": null,
      "grid_area": null,
      "grid_auto_columns": null,
      "grid_auto_flow": null,
      "grid_auto_rows": null,
      "grid_column": null,
      "grid_gap": null,
      "grid_row": null,
      "grid_template_areas": null,
      "grid_template_columns": null,
      "grid_template_rows": null,
      "height": null,
      "justify_content": null,
      "justify_items": null,
      "left": null,
      "margin": null,
      "max_height": null,
      "max_width": null,
      "min_height": null,
      "min_width": null,
      "object_fit": null,
      "object_position": null,
      "order": null,
      "overflow": null,
      "overflow_x": null,
      "overflow_y": null,
      "padding": null,
      "right": null,
      "top": null,
      "visibility": null,
      "width": null
     }
    },
    "0c6b69911c2349f2a60ee98be0f5787f": {
     "model_module": "@jupyter-widgets/controls",
     "model_name": "ProgressStyleModel",
     "model_module_version": "1.5.0",
     "state": {
      "_model_module": "@jupyter-widgets/controls",
      "_model_module_version": "1.5.0",
      "_model_name": "ProgressStyleModel",
      "_view_count": null,
      "_view_module": "@jupyter-widgets/base",
      "_view_module_version": "1.2.0",
      "_view_name": "StyleView",
      "bar_color": null,
      "description_width": ""
     }
    },
    "84c7ad77587c4db795131789a3008bbf": {
     "model_module": "@jupyter-widgets/base",
     "model_name": "LayoutModel",
     "model_module_version": "1.2.0",
     "state": {
      "_model_module": "@jupyter-widgets/base",
      "_model_module_version": "1.2.0",
      "_model_name": "LayoutModel",
      "_view_count": null,
      "_view_module": "@jupyter-widgets/base",
      "_view_module_version": "1.2.0",
      "_view_name": "LayoutView",
      "align_content": null,
      "align_items": null,
      "align_self": null,
      "border": null,
      "bottom": null,
      "display": null,
      "flex": null,
      "flex_flow": null,
      "grid_area": null,
      "grid_auto_columns": null,
      "grid_auto_flow": null,
      "grid_auto_rows": null,
      "grid_column": null,
      "grid_gap": null,
      "grid_row": null,
      "grid_template_areas": null,
      "grid_template_columns": null,
      "grid_template_rows": null,
      "height": null,
      "justify_content": null,
      "justify_items": null,
      "left": null,
      "margin": null,
      "max_height": null,
      "max_width": null,
      "min_height": null,
      "min_width": null,
      "object_fit": null,
      "object_position": null,
      "order": null,
      "overflow": null,
      "overflow_x": null,
      "overflow_y": null,
      "padding": null,
      "right": null,
      "top": null,
      "visibility": null,
      "width": null
     }
    },
    "3951d6e0f4924138bedf16f0e7283bb9": {
     "model_module": "@jupyter-widgets/controls",
     "model_name": "DescriptionStyleModel",
     "model_module_version": "1.5.0",
     "state": {
      "_model_module": "@jupyter-widgets/controls",
      "_model_module_version": "1.5.0",
      "_model_name": "DescriptionStyleModel",
      "_view_count": null,
      "_view_module": "@jupyter-widgets/base",
      "_view_module_version": "1.2.0",
      "_view_name": "StyleView",
      "description_width": ""
     }
    },
    "9eb163d8c745431887f251922ce9561e": {
     "model_module": "@jupyter-widgets/controls",
     "model_name": "HBoxModel",
     "model_module_version": "1.5.0",
     "state": {
      "_dom_classes": [],
      "_model_module": "@jupyter-widgets/controls",
      "_model_module_version": "1.5.0",
      "_model_name": "HBoxModel",
      "_view_count": null,
      "_view_module": "@jupyter-widgets/controls",
      "_view_module_version": "1.5.0",
      "_view_name": "HBoxView",
      "box_style": "",
      "children": [
       "IPY_MODEL_cae36a118d8540648c4bff5af836755d",
       "IPY_MODEL_35aa4846642c4bd4ba7dccfaa83709b7",
       "IPY_MODEL_64e6b5cc62d349f3a6b982ffb89c95fd"
      ],
      "layout": "IPY_MODEL_b3a9b89668a14c508f48359db74df845"
     }
    },
    "cae36a118d8540648c4bff5af836755d": {
     "model_module": "@jupyter-widgets/controls",
     "model_name": "HTMLModel",
     "model_module_version": "1.5.0",
     "state": {
      "_dom_classes": [],
      "_model_module": "@jupyter-widgets/controls",
      "_model_module_version": "1.5.0",
      "_model_name": "HTMLModel",
      "_view_count": null,
      "_view_module": "@jupyter-widgets/controls",
      "_view_module_version": "1.5.0",
      "_view_name": "HTMLView",
      "description": "",
      "description_tooltip": null,
      "layout": "IPY_MODEL_17f0180f16d44b8f83a21c8263f7310c",
      "placeholder": "​",
      "style": "IPY_MODEL_d9fbd45c56cd43d39584cc1ffd5451ee",
      "value": "sentencepiece.bpe.model: 100%"
     }
    },
    "35aa4846642c4bd4ba7dccfaa83709b7": {
     "model_module": "@jupyter-widgets/controls",
     "model_name": "FloatProgressModel",
     "model_module_version": "1.5.0",
     "state": {
      "_dom_classes": [],
      "_model_module": "@jupyter-widgets/controls",
      "_model_module_version": "1.5.0",
      "_model_name": "FloatProgressModel",
      "_view_count": null,
      "_view_module": "@jupyter-widgets/controls",
      "_view_module_version": "1.5.0",
      "_view_name": "ProgressView",
      "bar_style": "success",
      "description": "",
      "description_tooltip": null,
      "layout": "IPY_MODEL_d288a83b29c342eb99d68b43157bd02e",
      "max": 703294,
      "min": 0,
      "orientation": "horizontal",
      "style": "IPY_MODEL_71ae7f2c0953414aa8c90ed6ccaca2e7",
      "value": 703294
     }
    },
    "64e6b5cc62d349f3a6b982ffb89c95fd": {
     "model_module": "@jupyter-widgets/controls",
     "model_name": "HTMLModel",
     "model_module_version": "1.5.0",
     "state": {
      "_dom_classes": [],
      "_model_module": "@jupyter-widgets/controls",
      "_model_module_version": "1.5.0",
      "_model_name": "HTMLModel",
      "_view_count": null,
      "_view_module": "@jupyter-widgets/controls",
      "_view_module_version": "1.5.0",
      "_view_name": "HTMLView",
      "description": "",
      "description_tooltip": null,
      "layout": "IPY_MODEL_2ac9ce8ae3fc42c4a6a6cd8bbe69217d",
      "placeholder": "​",
      "style": "IPY_MODEL_c06f0afdc0ae491aad4de8a08c5dafae",
      "value": " 703k/703k [00:00&lt;00:00, 14.1MB/s]"
     }
    },
    "b3a9b89668a14c508f48359db74df845": {
     "model_module": "@jupyter-widgets/base",
     "model_name": "LayoutModel",
     "model_module_version": "1.2.0",
     "state": {
      "_model_module": "@jupyter-widgets/base",
      "_model_module_version": "1.2.0",
      "_model_name": "LayoutModel",
      "_view_count": null,
      "_view_module": "@jupyter-widgets/base",
      "_view_module_version": "1.2.0",
      "_view_name": "LayoutView",
      "align_content": null,
      "align_items": null,
      "align_self": null,
      "border": null,
      "bottom": null,
      "display": null,
      "flex": null,
      "flex_flow": null,
      "grid_area": null,
      "grid_auto_columns": null,
      "grid_auto_flow": null,
      "grid_auto_rows": null,
      "grid_column": null,
      "grid_gap": null,
      "grid_row": null,
      "grid_template_areas": null,
      "grid_template_columns": null,
      "grid_template_rows": null,
      "height": null,
      "justify_content": null,
      "justify_items": null,
      "left": null,
      "margin": null,
      "max_height": null,
      "max_width": null,
      "min_height": null,
      "min_width": null,
      "object_fit": null,
      "object_position": null,
      "order": null,
      "overflow": null,
      "overflow_x": null,
      "overflow_y": null,
      "padding": null,
      "right": null,
      "top": null,
      "visibility": null,
      "width": null
     }
    },
    "17f0180f16d44b8f83a21c8263f7310c": {
     "model_module": "@jupyter-widgets/base",
     "model_name": "LayoutModel",
     "model_module_version": "1.2.0",
     "state": {
      "_model_module": "@jupyter-widgets/base",
      "_model_module_version": "1.2.0",
      "_model_name": "LayoutModel",
      "_view_count": null,
      "_view_module": "@jupyter-widgets/base",
      "_view_module_version": "1.2.0",
      "_view_name": "LayoutView",
      "align_content": null,
      "align_items": null,
      "align_self": null,
      "border": null,
      "bottom": null,
      "display": null,
      "flex": null,
      "flex_flow": null,
      "grid_area": null,
      "grid_auto_columns": null,
      "grid_auto_flow": null,
      "grid_auto_rows": null,
      "grid_column": null,
      "grid_gap": null,
      "grid_row": null,
      "grid_template_areas": null,
      "grid_template_columns": null,
      "grid_template_rows": null,
      "height": null,
      "justify_content": null,
      "justify_items": null,
      "left": null,
      "margin": null,
      "max_height": null,
      "max_width": null,
      "min_height": null,
      "min_width": null,
      "object_fit": null,
      "object_position": null,
      "order": null,
      "overflow": null,
      "overflow_x": null,
      "overflow_y": null,
      "padding": null,
      "right": null,
      "top": null,
      "visibility": null,
      "width": null
     }
    },
    "d9fbd45c56cd43d39584cc1ffd5451ee": {
     "model_module": "@jupyter-widgets/controls",
     "model_name": "DescriptionStyleModel",
     "model_module_version": "1.5.0",
     "state": {
      "_model_module": "@jupyter-widgets/controls",
      "_model_module_version": "1.5.0",
      "_model_name": "DescriptionStyleModel",
      "_view_count": null,
      "_view_module": "@jupyter-widgets/base",
      "_view_module_version": "1.2.0",
      "_view_name": "StyleView",
      "description_width": ""
     }
    },
    "d288a83b29c342eb99d68b43157bd02e": {
     "model_module": "@jupyter-widgets/base",
     "model_name": "LayoutModel",
     "model_module_version": "1.2.0",
     "state": {
      "_model_module": "@jupyter-widgets/base",
      "_model_module_version": "1.2.0",
      "_model_name": "LayoutModel",
      "_view_count": null,
      "_view_module": "@jupyter-widgets/base",
      "_view_module_version": "1.2.0",
      "_view_name": "LayoutView",
      "align_content": null,
      "align_items": null,
      "align_self": null,
      "border": null,
      "bottom": null,
      "display": null,
      "flex": null,
      "flex_flow": null,
      "grid_area": null,
      "grid_auto_columns": null,
      "grid_auto_flow": null,
      "grid_auto_rows": null,
      "grid_column": null,
      "grid_gap": null,
      "grid_row": null,
      "grid_template_areas": null,
      "grid_template_columns": null,
      "grid_template_rows": null,
      "height": null,
      "justify_content": null,
      "justify_items": null,
      "left": null,
      "margin": null,
      "max_height": null,
      "max_width": null,
      "min_height": null,
      "min_width": null,
      "object_fit": null,
      "object_position": null,
      "order": null,
      "overflow": null,
      "overflow_x": null,
      "overflow_y": null,
      "padding": null,
      "right": null,
      "top": null,
      "visibility": null,
      "width": null
     }
    },
    "71ae7f2c0953414aa8c90ed6ccaca2e7": {
     "model_module": "@jupyter-widgets/controls",
     "model_name": "ProgressStyleModel",
     "model_module_version": "1.5.0",
     "state": {
      "_model_module": "@jupyter-widgets/controls",
      "_model_module_version": "1.5.0",
      "_model_name": "ProgressStyleModel",
      "_view_count": null,
      "_view_module": "@jupyter-widgets/base",
      "_view_module_version": "1.2.0",
      "_view_name": "StyleView",
      "bar_color": null,
      "description_width": ""
     }
    },
    "2ac9ce8ae3fc42c4a6a6cd8bbe69217d": {
     "model_module": "@jupyter-widgets/base",
     "model_name": "LayoutModel",
     "model_module_version": "1.2.0",
     "state": {
      "_model_module": "@jupyter-widgets/base",
      "_model_module_version": "1.2.0",
      "_model_name": "LayoutModel",
      "_view_count": null,
      "_view_module": "@jupyter-widgets/base",
      "_view_module_version": "1.2.0",
      "_view_name": "LayoutView",
      "align_content": null,
      "align_items": null,
      "align_self": null,
      "border": null,
      "bottom": null,
      "display": null,
      "flex": null,
      "flex_flow": null,
      "grid_area": null,
      "grid_auto_columns": null,
      "grid_auto_flow": null,
      "grid_auto_rows": null,
      "grid_column": null,
      "grid_gap": null,
      "grid_row": null,
      "grid_template_areas": null,
      "grid_template_columns": null,
      "grid_template_rows": null,
      "height": null,
      "justify_content": null,
      "justify_items": null,
      "left": null,
      "margin": null,
      "max_height": null,
      "max_width": null,
      "min_height": null,
      "min_width": null,
      "object_fit": null,
      "object_position": null,
      "order": null,
      "overflow": null,
      "overflow_x": null,
      "overflow_y": null,
      "padding": null,
      "right": null,
      "top": null,
      "visibility": null,
      "width": null
     }
    },
    "c06f0afdc0ae491aad4de8a08c5dafae": {
     "model_module": "@jupyter-widgets/controls",
     "model_name": "DescriptionStyleModel",
     "model_module_version": "1.5.0",
     "state": {
      "_model_module": "@jupyter-widgets/controls",
      "_model_module_version": "1.5.0",
      "_model_name": "DescriptionStyleModel",
      "_view_count": null,
      "_view_module": "@jupyter-widgets/base",
      "_view_module_version": "1.2.0",
      "_view_name": "StyleView",
      "description_width": ""
     }
    },
    "8e73a5143adb4eb6bc1d725fd6ee789d": {
     "model_module": "@jupyter-widgets/controls",
     "model_name": "HBoxModel",
     "model_module_version": "1.5.0",
     "state": {
      "_dom_classes": [],
      "_model_module": "@jupyter-widgets/controls",
      "_model_module_version": "1.5.0",
      "_model_name": "HBoxModel",
      "_view_count": null,
      "_view_module": "@jupyter-widgets/controls",
      "_view_module_version": "1.5.0",
      "_view_name": "HBoxView",
      "box_style": "",
      "children": [
       "IPY_MODEL_d46a998e99b34941b254e4d1afc07d14",
       "IPY_MODEL_4c9aff0b8a7441d893717a83a9fd5b80",
       "IPY_MODEL_58bd6f33a63e4fa8872a92cf0797ae3d"
      ],
      "layout": "IPY_MODEL_49f3397f4ea748ba8cc9949f76948476"
     }
    },
    "d46a998e99b34941b254e4d1afc07d14": {
     "model_module": "@jupyter-widgets/controls",
     "model_name": "HTMLModel",
     "model_module_version": "1.5.0",
     "state": {
      "_dom_classes": [],
      "_model_module": "@jupyter-widgets/controls",
      "_model_module_version": "1.5.0",
      "_model_name": "HTMLModel",
      "_view_count": null,
      "_view_module": "@jupyter-widgets/controls",
      "_view_module_version": "1.5.0",
      "_view_name": "HTMLView",
      "description": "",
      "description_tooltip": null,
      "layout": "IPY_MODEL_d0d1c491091542be85bcc7db4c974c81",
      "placeholder": "​",
      "style": "IPY_MODEL_9fbcebdcd74a4b22b362b04f5b0ba142",
      "value": "tokenizer.json: 100%"
     }
    },
    "4c9aff0b8a7441d893717a83a9fd5b80": {
     "model_module": "@jupyter-widgets/controls",
     "model_name": "FloatProgressModel",
     "model_module_version": "1.5.0",
     "state": {
      "_dom_classes": [],
      "_model_module": "@jupyter-widgets/controls",
      "_model_module_version": "1.5.0",
      "_model_name": "FloatProgressModel",
      "_view_count": null,
      "_view_module": "@jupyter-widgets/controls",
      "_view_module_version": "1.5.0",
      "_view_name": "ProgressView",
      "bar_style": "success",
      "description": "",
      "description_tooltip": null,
      "layout": "IPY_MODEL_8bee41ff774f411badf1826ca15bc7c0",
      "max": 1952920,
      "min": 0,
      "orientation": "horizontal",
      "style": "IPY_MODEL_917a43d0551242a690a2aefb99e5b644",
      "value": 1952920
     }
    },
    "58bd6f33a63e4fa8872a92cf0797ae3d": {
     "model_module": "@jupyter-widgets/controls",
     "model_name": "HTMLModel",
     "model_module_version": "1.5.0",
     "state": {
      "_dom_classes": [],
      "_model_module": "@jupyter-widgets/controls",
      "_model_module_version": "1.5.0",
      "_model_name": "HTMLModel",
      "_view_count": null,
      "_view_module": "@jupyter-widgets/controls",
      "_view_module_version": "1.5.0",
      "_view_name": "HTMLView",
      "description": "",
      "description_tooltip": null,
      "layout": "IPY_MODEL_f89b0ea22e944a77b4e1ed26e5aa0908",
      "placeholder": "​",
      "style": "IPY_MODEL_65c50c388d1044dfae797e7b81310eda",
      "value": " 1.95M/1.95M [00:00&lt;00:00, 8.53MB/s]"
     }
    },
    "49f3397f4ea748ba8cc9949f76948476": {
     "model_module": "@jupyter-widgets/base",
     "model_name": "LayoutModel",
     "model_module_version": "1.2.0",
     "state": {
      "_model_module": "@jupyter-widgets/base",
      "_model_module_version": "1.2.0",
      "_model_name": "LayoutModel",
      "_view_count": null,
      "_view_module": "@jupyter-widgets/base",
      "_view_module_version": "1.2.0",
      "_view_name": "LayoutView",
      "align_content": null,
      "align_items": null,
      "align_self": null,
      "border": null,
      "bottom": null,
      "display": null,
      "flex": null,
      "flex_flow": null,
      "grid_area": null,
      "grid_auto_columns": null,
      "grid_auto_flow": null,
      "grid_auto_rows": null,
      "grid_column": null,
      "grid_gap": null,
      "grid_row": null,
      "grid_template_areas": null,
      "grid_template_columns": null,
      "grid_template_rows": null,
      "height": null,
      "justify_content": null,
      "justify_items": null,
      "left": null,
      "margin": null,
      "max_height": null,
      "max_width": null,
      "min_height": null,
      "min_width": null,
      "object_fit": null,
      "object_position": null,
      "order": null,
      "overflow": null,
      "overflow_x": null,
      "overflow_y": null,
      "padding": null,
      "right": null,
      "top": null,
      "visibility": null,
      "width": null
     }
    },
    "d0d1c491091542be85bcc7db4c974c81": {
     "model_module": "@jupyter-widgets/base",
     "model_name": "LayoutModel",
     "model_module_version": "1.2.0",
     "state": {
      "_model_module": "@jupyter-widgets/base",
      "_model_module_version": "1.2.0",
      "_model_name": "LayoutModel",
      "_view_count": null,
      "_view_module": "@jupyter-widgets/base",
      "_view_module_version": "1.2.0",
      "_view_name": "LayoutView",
      "align_content": null,
      "align_items": null,
      "align_self": null,
      "border": null,
      "bottom": null,
      "display": null,
      "flex": null,
      "flex_flow": null,
      "grid_area": null,
      "grid_auto_columns": null,
      "grid_auto_flow": null,
      "grid_auto_rows": null,
      "grid_column": null,
      "grid_gap": null,
      "grid_row": null,
      "grid_template_areas": null,
      "grid_template_columns": null,
      "grid_template_rows": null,
      "height": null,
      "justify_content": null,
      "justify_items": null,
      "left": null,
      "margin": null,
      "max_height": null,
      "max_width": null,
      "min_height": null,
      "min_width": null,
      "object_fit": null,
      "object_position": null,
      "order": null,
      "overflow": null,
      "overflow_x": null,
      "overflow_y": null,
      "padding": null,
      "right": null,
      "top": null,
      "visibility": null,
      "width": null
     }
    },
    "9fbcebdcd74a4b22b362b04f5b0ba142": {
     "model_module": "@jupyter-widgets/controls",
     "model_name": "DescriptionStyleModel",
     "model_module_version": "1.5.0",
     "state": {
      "_model_module": "@jupyter-widgets/controls",
      "_model_module_version": "1.5.0",
      "_model_name": "DescriptionStyleModel",
      "_view_count": null,
      "_view_module": "@jupyter-widgets/base",
      "_view_module_version": "1.2.0",
      "_view_name": "StyleView",
      "description_width": ""
     }
    },
    "8bee41ff774f411badf1826ca15bc7c0": {
     "model_module": "@jupyter-widgets/base",
     "model_name": "LayoutModel",
     "model_module_version": "1.2.0",
     "state": {
      "_model_module": "@jupyter-widgets/base",
      "_model_module_version": "1.2.0",
      "_model_name": "LayoutModel",
      "_view_count": null,
      "_view_module": "@jupyter-widgets/base",
      "_view_module_version": "1.2.0",
      "_view_name": "LayoutView",
      "align_content": null,
      "align_items": null,
      "align_self": null,
      "border": null,
      "bottom": null,
      "display": null,
      "flex": null,
      "flex_flow": null,
      "grid_area": null,
      "grid_auto_columns": null,
      "grid_auto_flow": null,
      "grid_auto_rows": null,
      "grid_column": null,
      "grid_gap": null,
      "grid_row": null,
      "grid_template_areas": null,
      "grid_template_columns": null,
      "grid_template_rows": null,
      "height": null,
      "justify_content": null,
      "justify_items": null,
      "left": null,
      "margin": null,
      "max_height": null,
      "max_width": null,
      "min_height": null,
      "min_width": null,
      "object_fit": null,
      "object_position": null,
      "order": null,
      "overflow": null,
      "overflow_x": null,
      "overflow_y": null,
      "padding": null,
      "right": null,
      "top": null,
      "visibility": null,
      "width": null
     }
    },
    "917a43d0551242a690a2aefb99e5b644": {
     "model_module": "@jupyter-widgets/controls",
     "model_name": "ProgressStyleModel",
     "model_module_version": "1.5.0",
     "state": {
      "_model_module": "@jupyter-widgets/controls",
      "_model_module_version": "1.5.0",
      "_model_name": "ProgressStyleModel",
      "_view_count": null,
      "_view_module": "@jupyter-widgets/base",
      "_view_module_version": "1.2.0",
      "_view_name": "StyleView",
      "bar_color": null,
      "description_width": ""
     }
    },
    "f89b0ea22e944a77b4e1ed26e5aa0908": {
     "model_module": "@jupyter-widgets/base",
     "model_name": "LayoutModel",
     "model_module_version": "1.2.0",
     "state": {
      "_model_module": "@jupyter-widgets/base",
      "_model_module_version": "1.2.0",
      "_model_name": "LayoutModel",
      "_view_count": null,
      "_view_module": "@jupyter-widgets/base",
      "_view_module_version": "1.2.0",
      "_view_name": "LayoutView",
      "align_content": null,
      "align_items": null,
      "align_self": null,
      "border": null,
      "bottom": null,
      "display": null,
      "flex": null,
      "flex_flow": null,
      "grid_area": null,
      "grid_auto_columns": null,
      "grid_auto_flow": null,
      "grid_auto_rows": null,
      "grid_column": null,
      "grid_gap": null,
      "grid_row": null,
      "grid_template_areas": null,
      "grid_template_columns": null,
      "grid_template_rows": null,
      "height": null,
      "justify_content": null,
      "justify_items": null,
      "left": null,
      "margin": null,
      "max_height": null,
      "max_width": null,
      "min_height": null,
      "min_width": null,
      "object_fit": null,
      "object_position": null,
      "order": null,
      "overflow": null,
      "overflow_x": null,
      "overflow_y": null,
      "padding": null,
      "right": null,
      "top": null,
      "visibility": null,
      "width": null
     }
    },
    "65c50c388d1044dfae797e7b81310eda": {
     "model_module": "@jupyter-widgets/controls",
     "model_name": "DescriptionStyleModel",
     "model_module_version": "1.5.0",
     "state": {
      "_model_module": "@jupyter-widgets/controls",
      "_model_module_version": "1.5.0",
      "_model_name": "DescriptionStyleModel",
      "_view_count": null,
      "_view_module": "@jupyter-widgets/base",
      "_view_module_version": "1.2.0",
      "_view_name": "StyleView",
      "description_width": ""
     }
    },
    "bb745cfb45074b40b3c29071018b5906": {
     "model_module": "@jupyter-widgets/controls",
     "model_name": "HBoxModel",
     "model_module_version": "1.5.0",
     "state": {
      "_dom_classes": [],
      "_model_module": "@jupyter-widgets/controls",
      "_model_module_version": "1.5.0",
      "_model_name": "HBoxModel",
      "_view_count": null,
      "_view_module": "@jupyter-widgets/controls",
      "_view_module_version": "1.5.0",
      "_view_name": "HBoxView",
      "box_style": "",
      "children": [
       "IPY_MODEL_1da4cb2dd22a440ab49a948b0b9a4cdc",
       "IPY_MODEL_d672cab6845c445194a28509d9748219",
       "IPY_MODEL_90408c4bee0140f18418c8dd375318ea"
      ],
      "layout": "IPY_MODEL_674c741203f249cf8a6731f46ff9a838"
     }
    },
    "1da4cb2dd22a440ab49a948b0b9a4cdc": {
     "model_module": "@jupyter-widgets/controls",
     "model_name": "HTMLModel",
     "model_module_version": "1.5.0",
     "state": {
      "_dom_classes": [],
      "_model_module": "@jupyter-widgets/controls",
      "_model_module_version": "1.5.0",
      "_model_name": "HTMLModel",
      "_view_count": null,
      "_view_module": "@jupyter-widgets/controls",
      "_view_module_version": "1.5.0",
      "_view_name": "HTMLView",
      "description": "",
      "description_tooltip": null,
      "layout": "IPY_MODEL_ee8f881e02994934899ab271f637cdac",
      "placeholder": "​",
      "style": "IPY_MODEL_3253a681356c4a9ebc3cd2f8c42aa2e8",
      "value": "special_tokens_map.json: 100%"
     }
    },
    "d672cab6845c445194a28509d9748219": {
     "model_module": "@jupyter-widgets/controls",
     "model_name": "FloatProgressModel",
     "model_module_version": "1.5.0",
     "state": {
      "_dom_classes": [],
      "_model_module": "@jupyter-widgets/controls",
      "_model_module_version": "1.5.0",
      "_model_name": "FloatProgressModel",
      "_view_count": null,
      "_view_module": "@jupyter-widgets/controls",
      "_view_module_version": "1.5.0",
      "_view_name": "ProgressView",
      "bar_style": "success",
      "description": "",
      "description_tooltip": null,
      "layout": "IPY_MODEL_8baf659fb958429da0d0b17fb280189b",
      "max": 880,
      "min": 0,
      "orientation": "horizontal",
      "style": "IPY_MODEL_348ed38b0026466780f37c067e48d272",
      "value": 880
     }
    },
    "90408c4bee0140f18418c8dd375318ea": {
     "model_module": "@jupyter-widgets/controls",
     "model_name": "HTMLModel",
     "model_module_version": "1.5.0",
     "state": {
      "_dom_classes": [],
      "_model_module": "@jupyter-widgets/controls",
      "_model_module_version": "1.5.0",
      "_model_name": "HTMLModel",
      "_view_count": null,
      "_view_module": "@jupyter-widgets/controls",
      "_view_module_version": "1.5.0",
      "_view_name": "HTMLView",
      "description": "",
      "description_tooltip": null,
      "layout": "IPY_MODEL_a58aca21c93741d388d3e767aae8d62f",
      "placeholder": "​",
      "style": "IPY_MODEL_3a72c08223d941fda2f8034f7d609975",
      "value": " 880/880 [00:00&lt;00:00, 32.5kB/s]"
     }
    },
    "674c741203f249cf8a6731f46ff9a838": {
     "model_module": "@jupyter-widgets/base",
     "model_name": "LayoutModel",
     "model_module_version": "1.2.0",
     "state": {
      "_model_module": "@jupyter-widgets/base",
      "_model_module_version": "1.2.0",
      "_model_name": "LayoutModel",
      "_view_count": null,
      "_view_module": "@jupyter-widgets/base",
      "_view_module_version": "1.2.0",
      "_view_name": "LayoutView",
      "align_content": null,
      "align_items": null,
      "align_self": null,
      "border": null,
      "bottom": null,
      "display": null,
      "flex": null,
      "flex_flow": null,
      "grid_area": null,
      "grid_auto_columns": null,
      "grid_auto_flow": null,
      "grid_auto_rows": null,
      "grid_column": null,
      "grid_gap": null,
      "grid_row": null,
      "grid_template_areas": null,
      "grid_template_columns": null,
      "grid_template_rows": null,
      "height": null,
      "justify_content": null,
      "justify_items": null,
      "left": null,
      "margin": null,
      "max_height": null,
      "max_width": null,
      "min_height": null,
      "min_width": null,
      "object_fit": null,
      "object_position": null,
      "order": null,
      "overflow": null,
      "overflow_x": null,
      "overflow_y": null,
      "padding": null,
      "right": null,
      "top": null,
      "visibility": null,
      "width": null
     }
    },
    "ee8f881e02994934899ab271f637cdac": {
     "model_module": "@jupyter-widgets/base",
     "model_name": "LayoutModel",
     "model_module_version": "1.2.0",
     "state": {
      "_model_module": "@jupyter-widgets/base",
      "_model_module_version": "1.2.0",
      "_model_name": "LayoutModel",
      "_view_count": null,
      "_view_module": "@jupyter-widgets/base",
      "_view_module_version": "1.2.0",
      "_view_name": "LayoutView",
      "align_content": null,
      "align_items": null,
      "align_self": null,
      "border": null,
      "bottom": null,
      "display": null,
      "flex": null,
      "flex_flow": null,
      "grid_area": null,
      "grid_auto_columns": null,
      "grid_auto_flow": null,
      "grid_auto_rows": null,
      "grid_column": null,
      "grid_gap": null,
      "grid_row": null,
      "grid_template_areas": null,
      "grid_template_columns": null,
      "grid_template_rows": null,
      "height": null,
      "justify_content": null,
      "justify_items": null,
      "left": null,
      "margin": null,
      "max_height": null,
      "max_width": null,
      "min_height": null,
      "min_width": null,
      "object_fit": null,
      "object_position": null,
      "order": null,
      "overflow": null,
      "overflow_x": null,
      "overflow_y": null,
      "padding": null,
      "right": null,
      "top": null,
      "visibility": null,
      "width": null
     }
    },
    "3253a681356c4a9ebc3cd2f8c42aa2e8": {
     "model_module": "@jupyter-widgets/controls",
     "model_name": "DescriptionStyleModel",
     "model_module_version": "1.5.0",
     "state": {
      "_model_module": "@jupyter-widgets/controls",
      "_model_module_version": "1.5.0",
      "_model_name": "DescriptionStyleModel",
      "_view_count": null,
      "_view_module": "@jupyter-widgets/base",
      "_view_module_version": "1.2.0",
      "_view_name": "StyleView",
      "description_width": ""
     }
    },
    "8baf659fb958429da0d0b17fb280189b": {
     "model_module": "@jupyter-widgets/base",
     "model_name": "LayoutModel",
     "model_module_version": "1.2.0",
     "state": {
      "_model_module": "@jupyter-widgets/base",
      "_model_module_version": "1.2.0",
      "_model_name": "LayoutModel",
      "_view_count": null,
      "_view_module": "@jupyter-widgets/base",
      "_view_module_version": "1.2.0",
      "_view_name": "LayoutView",
      "align_content": null,
      "align_items": null,
      "align_self": null,
      "border": null,
      "bottom": null,
      "display": null,
      "flex": null,
      "flex_flow": null,
      "grid_area": null,
      "grid_auto_columns": null,
      "grid_auto_flow": null,
      "grid_auto_rows": null,
      "grid_column": null,
      "grid_gap": null,
      "grid_row": null,
      "grid_template_areas": null,
      "grid_template_columns": null,
      "grid_template_rows": null,
      "height": null,
      "justify_content": null,
      "justify_items": null,
      "left": null,
      "margin": null,
      "max_height": null,
      "max_width": null,
      "min_height": null,
      "min_width": null,
      "object_fit": null,
      "object_position": null,
      "order": null,
      "overflow": null,
      "overflow_x": null,
      "overflow_y": null,
      "padding": null,
      "right": null,
      "top": null,
      "visibility": null,
      "width": null
     }
    },
    "348ed38b0026466780f37c067e48d272": {
     "model_module": "@jupyter-widgets/controls",
     "model_name": "ProgressStyleModel",
     "model_module_version": "1.5.0",
     "state": {
      "_model_module": "@jupyter-widgets/controls",
      "_model_module_version": "1.5.0",
      "_model_name": "ProgressStyleModel",
      "_view_count": null,
      "_view_module": "@jupyter-widgets/base",
      "_view_module_version": "1.2.0",
      "_view_name": "StyleView",
      "bar_color": null,
      "description_width": ""
     }
    },
    "a58aca21c93741d388d3e767aae8d62f": {
     "model_module": "@jupyter-widgets/base",
     "model_name": "LayoutModel",
     "model_module_version": "1.2.0",
     "state": {
      "_model_module": "@jupyter-widgets/base",
      "_model_module_version": "1.2.0",
      "_model_name": "LayoutModel",
      "_view_count": null,
      "_view_module": "@jupyter-widgets/base",
      "_view_module_version": "1.2.0",
      "_view_name": "LayoutView",
      "align_content": null,
      "align_items": null,
      "align_self": null,
      "border": null,
      "bottom": null,
      "display": null,
      "flex": null,
      "flex_flow": null,
      "grid_area": null,
      "grid_auto_columns": null,
      "grid_auto_flow": null,
      "grid_auto_rows": null,
      "grid_column": null,
      "grid_gap": null,
      "grid_row": null,
      "grid_template_areas": null,
      "grid_template_columns": null,
      "grid_template_rows": null,
      "height": null,
      "justify_content": null,
      "justify_items": null,
      "left": null,
      "margin": null,
      "max_height": null,
      "max_width": null,
      "min_height": null,
      "min_width": null,
      "object_fit": null,
      "object_position": null,
      "order": null,
      "overflow": null,
      "overflow_x": null,
      "overflow_y": null,
      "padding": null,
      "right": null,
      "top": null,
      "visibility": null,
      "width": null
     }
    },
    "3a72c08223d941fda2f8034f7d609975": {
     "model_module": "@jupyter-widgets/controls",
     "model_name": "DescriptionStyleModel",
     "model_module_version": "1.5.0",
     "state": {
      "_model_module": "@jupyter-widgets/controls",
      "_model_module_version": "1.5.0",
      "_model_name": "DescriptionStyleModel",
      "_view_count": null,
      "_view_module": "@jupyter-widgets/base",
      "_view_module_version": "1.2.0",
      "_view_name": "StyleView",
      "description_width": ""
     }
    }
   }
  }
 },
 "cells": [
  {
   "cell_type": "markdown",
   "source": [
    "# Project plan"
   ],
   "metadata": {
    "id": "VeVaUmr0_vnP"
   }
  },
  {
   "cell_type": "code",
   "source": [
    "\"https://miro.com/app/board/uXjVKz7_SX8=/?share_link_id=88913006867\""
   ],
   "metadata": {
    "id": "jxEIn6Rn_zvm"
   },
   "execution_count": null,
   "outputs": []
  },
  {
   "cell_type": "markdown",
   "source": "# Lib",
   "metadata": {
    "id": "ywsGkhteoN-k"
   }
  },
  {
   "cell_type": "code",
   "source": [
    "# Для парсинга данных\n",
    "!pip install telethon nest_asyncio\n"
   ],
   "metadata": {
    "id": "uz0Oa0S2wgKG"
   },
   "execution_count": null,
   "outputs": []
  },
  {
   "cell_type": "code",
   "source": [
    "# Для обработки данных\n",
    "\n",
    "!pip install emoji vaderSentiment bertopic num2words pymorphy2\n",
    "!python -m spacy download ru_core_news_sm\n"
   ],
   "metadata": {
    "colab": {
     "base_uri": "https://localhost:8080/"
    },
    "id": "j6XlNZFCraCp",
    "outputId": "689dd74f-b560-43dc-c7b7-72ea6198e112",
    "collapsed": true
   },
   "execution_count": null,
   "outputs": []
  },
  {
   "cell_type": "code",
   "source": [
    "# Для cуммирования информации и RAG\n",
    "!pip install transformers\n",
    "!pip install accelerate -U"
   ],
   "metadata": {
    "colab": {
     "base_uri": "https://localhost:8080/"
    },
    "collapsed": true,
    "id": "QR6hMqCEDlu2",
    "outputId": "b784db74-7aa8-41d1-fcf1-78cf506dd755"
   },
   "execution_count": null,
   "outputs": []
  },
  {
   "cell_type": "code",
   "source": [
    "from telethon import TelegramClient, types, functions\n",
    "from telethon.tl.functions.channels import GetFullChannelRequest\n",
    "import nest_asyncio"
   ],
   "metadata": {
    "id": "Xg9jd1fQwuqW"
   },
   "execution_count": null,
   "outputs": []
  },
  {
   "cell_type": "code",
   "source": [
    "import emoji\n",
    "from vaderSentiment.vaderSentiment import SentimentIntensityAnalyzer\n",
    "from num2words import num2words\n",
    "import pymorphy2\n",
    "from bertopic import BERTopic"
   ],
   "metadata": {
    "id": "qpOV0gGzD5e_"
   },
   "execution_count": null,
   "outputs": []
  },
  {
   "cell_type": "code",
   "source": [
    "from transformers import pipeline"
   ],
   "metadata": {
    "id": "AnahWoupD3p0"
   },
   "execution_count": null,
   "outputs": []
  },
  {
   "cell_type": "code",
   "source": [
    "import warnings\n",
    "warnings.filterwarnings('ignore')\n",
    "random_state = 17\n",
    "\n",
    "import pandas as pd\n",
    "import numpy as np\n",
    "\n",
    "from datetime import datetime\n",
    "import matplotlib as mlp\n",
    "import matplotlib.pyplot as plt\n",
    "import seaborn as sns\n",
    "\n",
    "from sklearn.feature_extraction.text import CountVectorizer\n",
    "import nltk\n",
    "import re\n",
    "from nltk.corpus import stopwords\n",
    "from nltk.tokenize import word_tokenize\n",
    "from sklearn.feature_extraction.text import ENGLISH_STOP_WORDS\n",
    "import spacy\n",
    "import string\n",
    "\n",
    "from sklearn.feature_extraction.text import TfidfVectorizer\n",
    "from sklearn.decomposition import PCA\n",
    "from sklearn.model_selection import train_test_split\n",
    "from sklearn.linear_model import LogisticRegression\n",
    "from sklearn.metrics import classification_report, accuracy_score\n",
    "from sklearn.svm import SVC\n",
    "from sklearn.tree import DecisionTreeClassifier\n",
    "from sklearn.ensemble import RandomForestClassifier\n",
    "from sklearn.ensemble import GradientBoostingClassifier\n",
    "from sklearn.preprocessing import StandardScaler\n",
    "from xgboost import XGBClassifier\n",
    "from sklearn.preprocessing import LabelEncoder\n",
    "\n",
    "from scipy.stats import hmean\n",
    "from scipy.stats import boxcox"
   ],
   "metadata": {
    "id": "WDihAhObraFF"
   },
   "execution_count": 1,
   "outputs": []
  },
  {
   "metadata": {},
   "cell_type": "code",
   "execution_count": null,
   "source": "from decouple import config",
   "outputs": []
  },
  {
   "cell_type": "code",
   "source": [
    "nltk.download('punkt')\n",
    "nltk.download('stopwords')"
   ],
   "metadata": {
    "id": "emffXJ0rZaI9"
   },
   "execution_count": null,
   "outputs": []
  },
  {
   "cell_type": "markdown",
   "source": "# Code for mining data",
   "metadata": {
    "id": "ECdz1sBaw1K5"
   }
  },
  {
   "cell_type": "code",
   "source": [
    "nest_asyncio.apply()\n",
    "# Личныве данные для аккаунта\n",
    "\n",
    "api_id = config('API_ID')\n",
    "api_hash = config('API_HASH')\n",
    "phone_number = config('PHONE_NUMBER')"
   ],
   "metadata": {
    "id": "OBAb37Kww1qA"
   },
   "execution_count": null,
   "outputs": []
  },
  {
   "cell_type": "code",
   "source": [
    "async def registr(phone_number, api_id, api_hash) -> None:\n",
    "    client = TelegramClient(phone_number, api_id, api_hash)\n",
    "    await client.start()\n",
    "    print(await client.get_me())\n",
    "    return client\n",
    "    \n",
    "client = registr(phone_number, api_id, api_hash)"
   ],
   "metadata": {
    "id": "GRrypum_xA0u"
   },
   "execution_count": null,
   "outputs": []
  },
  {
   "cell_type": "code",
   "source": [
    "async def reactions_to_str(client, reactions: types.MessageReactions) -> str:\n",
    "    if reactions:\n",
    "        reactions_list = []\n",
    "        for reaction in reactions.results:\n",
    "            if isinstance(reaction.reaction, types.ReactionEmoji):\n",
    "                emoji = reaction.reaction.emoticon\n",
    "                reactions_list.append(f\"{emoji}: {reaction.count}\")\n",
    "            elif isinstance(reaction.reaction, types.ReactionCustomEmoji):\n",
    "                reactions_list.append(f\"Custom emoji: {reaction.count}\")\n",
    "        return \", \".join(reactions_list)\n",
    "    else:\n",
    "        return \"No reactions\"\n",
    "async def count_reactions(reactions):\n",
    "    if reactions:\n",
    "        return sum([r.count for r in reactions.results])\n",
    "    return 0\n",
    "\n",
    "async def fetch_messages(channel_username, limit=1000):\n",
    "    async with client:\n",
    "        channel = await client.get_entity(channel_username)\n",
    "        name = channel.title\n",
    "        full_channel = await client(GetFullChannelRequest(channel))\n",
    "        messages = []\n",
    "        async for message in client.iter_messages(channel, limit=limit):\n",
    "            message_data = {\n",
    "                'date': message.date,\n",
    "                'name': name,\n",
    "                'text': message.text,\n",
    "                'views': message.views,\n",
    "                'comments': message.replies.replies if message.replies else 0,\n",
    "                'forwards': message.forwards if message.forwards else 0,\n",
    "                'emoji': await reactions_to_str(client, message.reactions) if message.reactions else \"No reactions\",\n",
    "                'reactions': await count_reactions(message.reactions),\n",
    "                'subscribers': full_channel.full_chat.participants_count\n",
    "            }\n",
    "            messages.append(message_data)\n",
    "        return messages"
   ],
   "metadata": {
    "id": "wFh4UMuOxEUd"
   },
   "execution_count": null,
   "outputs": []
  },
  {
   "cell_type": "code",
   "source": [
    "channels = ['https://t.me/data_science_winners',\n",
    "            'https://t.me/sharemed',\n",
    "            'https://t.me/machinelearning_interview',\n",
    "            'https://t.me/econs',\n",
    "            'https://t.me/datascienceml_jobs',\n",
    "            'https://t.me/pravdadirty',\n",
    "            'https://t.me/betboom_esports',\n",
    "            ]\n",
    "\n",
    "def loop_data(channels):\n",
    "  messages = []\n",
    "  for channel in channels:\n",
    "    messages_channel = client.loop.run_until_complete(fetch_messages(channel))\n",
    "    messages.extend(messages_channel)\n",
    "  return messages\n"
   ],
   "metadata": {
    "id": "4AHV5iGixFk_"
   },
   "execution_count": null,
   "outputs": []
  },
  {
   "cell_type": "code",
   "source": [
    "messages = loop_data(channels)"
   ],
   "metadata": {
    "id": "DOM0944DxHLC"
   },
   "execution_count": null,
   "outputs": []
  },
  {
   "cell_type": "code",
   "source": [
    "df = pd.DataFrame(messages)\n",
    "df.head()"
   ],
   "metadata": {
    "id": "lRupk5xBxJeb"
   },
   "execution_count": null,
   "outputs": []
  },
  {
   "cell_type": "code",
   "source": [
    "# удалим пустые строки где нет текста (такие появляются из-за редактирования постов или фотографий, которые считываются как посты)\n",
    "df_clean = df[df['text'].notna()]\n",
    "\n",
    "# приводим дату к обычному виду\n",
    "df_clean['date'] = df_clean['date'].dt.tz_localize(None)\n",
    "\n",
    "# индексы сбрасываем\n",
    "df_clean = df_clean.reset_index(drop=True)\n",
    "df_clean"
   ],
   "metadata": {
    "id": "0MKV_ScpxMsg"
   },
   "execution_count": null,
   "outputs": []
  },
  {
   "cell_type": "code",
   "source": [
    "df_clean.to_csv('telegram_posts.csv', index=False, sep = ',', encoding = 'utf-8')"
   ],
   "metadata": {
    "id": "qQ7KPNVwxajX"
   },
   "execution_count": null,
   "outputs": []
  },
  {
   "cell_type": "markdown",
   "source": "# data\n",
   "metadata": {
    "id": "A4IROQKioQKA"
   }
  },
  {
   "cell_type": "code",
   "source": [
    "\"\"\"\n",
    "Данные взял из 7 каналов, пока тестирую возможности на данном наборе данных\n",
    "(расценивается как сэмпл) для понимания что вообще нужно делать.\n",
    "\"\"\""
   ],
   "metadata": {
    "colab": {
     "base_uri": "https://localhost:8080/",
     "height": 36
    },
    "id": "TAFEiXON0Nuj",
    "outputId": "05ccac38-ed55-493d-df11-b6f3851c11ad"
   },
   "execution_count": null,
   "outputs": []
  },
  {
   "cell_type": "code",
   "source": [
    "data = pd.read_csv('telegram_posts.csv', sep = ',', parse_dates=['date'], encoding = 'utf-8')\n",
    "data.head()"
   ],
   "metadata": {
    "colab": {
     "base_uri": "https://localhost:8080/",
     "height": 293
    },
    "id": "PovLVVwpuGo3",
    "outputId": "bb132f67-2fb3-4725-a372-0aa80fbbc5ef"
   },
   "execution_count": null,
   "outputs": []
  },
  {
   "cell_type": "markdown",
   "source": [
    "**data** - Дата поста\n",
    "\n",
    "**name** - Название канала\n",
    "\n",
    "**text** - Текст поста\n",
    "\n",
    "**views** - Кол-во просмотров\n",
    "\n",
    "**comments** - Кол-во комментариев\n",
    "\n",
    "**forwards** - Кол-во раз, которые пересылали пост\n",
    "\n",
    "**emoji** - Список реакций в формате \"emoji: кол-во\"\n",
    "\n",
    "**reactions** - Кол-во реакций\n",
    "\n",
    "**subscribers** - Кол-во подписчиков"
   ],
   "metadata": {
    "id": "y-XWEIvgySXI"
   }
  },
  {
   "cell_type": "code",
   "source": [
    "# После загрузки данных проверим повторно наличие пропусков\n",
    "# Уберем пропуски в тексте, которые остались после обработки\n",
    "data.info()\n",
    "data = data.dropna(subset='text')\n",
    "print('\\n')\n",
    "data.info()"
   ],
   "metadata": {
    "colab": {
     "base_uri": "https://localhost:8080/"
    },
    "id": "kr-T3K6iraHf",
    "outputId": "5eaf2e6e-de68-4ea6-b027-caee871e5ce1"
   },
   "execution_count": null,
   "outputs": []
  },
  {
   "cell_type": "code",
   "source": [
    "# Остались нули только в столбце emoji, заполним их нулями\n",
    "# Потому что в реакциях стоит 0, просто неправильная обработка\n",
    "data.fillna(0, inplace=True)\n",
    "data.info()"
   ],
   "metadata": {
    "colab": {
     "base_uri": "https://localhost:8080/"
    },
    "id": "VFm5hwj8u4KU",
    "outputId": "d8d39fe5-8211-4e4c-b280-69136580243a"
   },
   "execution_count": null,
   "outputs": []
  },
  {
   "cell_type": "code",
   "source": [
    "# Переведем в целочисленные значения для удобства\n",
    "data['views'] = data['views'].astype('int')\n",
    "data.info()"
   ],
   "metadata": {
    "colab": {
     "base_uri": "https://localhost:8080/"
    },
    "id": "LvKIIlvFuw8O",
    "outputId": "362f6d95-79cb-4119-a45d-80b7d8324a40"
   },
   "execution_count": null,
   "outputs": []
  },
  {
   "cell_type": "code",
   "source": [
    "# Отобразим конверсию просмотров в три оснвных показателя:\n",
    "data['comms_views'] = data['comments'] / data['views']\n",
    "data['forwards_views'] = data['forwards'] / data['views']\n",
    "data['reactions_views'] = data['reactions'] / data['views']\n",
    "data.head()"
   ],
   "metadata": {
    "colab": {
     "base_uri": "https://localhost:8080/",
     "height": 379
    },
    "id": "kkqr9_4mJnou",
    "outputId": "17f6bd3a-2e4c-44ee-b3b6-3d051fd965b2"
   },
   "execution_count": null,
   "outputs": []
  },
  {
   "cell_type": "code",
   "source": [
    "data.describe()"
   ],
   "metadata": {
    "colab": {
     "base_uri": "https://localhost:8080/",
     "height": 300
    },
    "id": "pgkYgBLOKPnI",
    "outputId": "95963cf2-98c6-4c2f-d581-6bf444bd73d0"
   },
   "execution_count": null,
   "outputs": []
  },
  {
   "cell_type": "markdown",
   "source": [
    "# analys"
   ],
   "metadata": {
    "id": "aqGgvIFXNORC"
   }
  },
  {
   "cell_type": "code",
   "source": [
    "sns.histplot(data['comms_views'], bins=5, kde=True)\n",
    "plt.xlabel('Значения')\n",
    "plt.ylabel('Частота')\n",
    "plt.title('Гистограмма распределения значений с KDE')\n",
    "plt.show()\n",
    "\n",
    "sns.kdeplot(data['comms_views'], shade=True)\n",
    "plt.xlabel('Значения')\n",
    "plt.title('Диаграмма плотности распределения значений')\n",
    "plt.show()\n",
    "\n",
    "sns.boxplot(x=data['comms_views'])\n",
    "plt.xlabel('Значения')\n",
    "plt.title('Коробчатая диаграмма распределения значений')\n",
    "plt.show()"
   ],
   "metadata": {
    "colab": {
     "base_uri": "https://localhost:8080/",
     "height": 1000
    },
    "id": "MaqLYxfFKfZG",
    "outputId": "51f716ea-bf0c-4c39-b0b8-30d0848b307e"
   },
   "execution_count": null,
   "outputs": []
  },
  {
   "cell_type": "code",
   "source": [
    "Q1 = data['comms_views'].quantile(0.25)\n",
    "Q3 = data['comms_views'].quantile(0.75)\n",
    "IQR = Q3 - Q1\n",
    "print(Q1, Q3, IQR)\n",
    "# Определение границ для выбросов\n",
    "lower_bound = Q1 - 1.5 * IQR\n",
    "upper_bound = Q3 + 1.5 * IQR"
   ],
   "metadata": {
    "colab": {
     "base_uri": "https://localhost:8080/"
    },
    "id": "iabI0h37MOKA",
    "outputId": "fa739325-8fa9-4d3b-dcd6-5bf338fb6204"
   },
   "execution_count": null,
   "outputs": []
  },
  {
   "cell_type": "code",
   "source": [
    "data_quantile = data[(data['comms_views'] >= lower_bound) & (data['comms_views'] <= upper_bound)]\n",
    "data_quantile.info()"
   ],
   "metadata": {
    "colab": {
     "base_uri": "https://localhost:8080/"
    },
    "id": "9JOm5SSgMgoJ",
    "outputId": "c8d5e0df-2711-4cd3-d67e-021f98f852ca"
   },
   "execution_count": null,
   "outputs": []
  },
  {
   "cell_type": "code",
   "source": [
    "sns.histplot(data_quantile['comms_views']*100, bins=5, kde=True)\n",
    "plt.xlabel('Значения')\n",
    "plt.ylabel('Частота')\n",
    "plt.title('Гистограмма распределения значений с KDE')\n",
    "plt.show()\n",
    "\n",
    "sns.kdeplot(data_quantile['comms_views']*100, shade=True)\n",
    "plt.xlabel('Значения')\n",
    "plt.title('Диаграмма плотности распределения значений')\n",
    "plt.show()\n",
    "\n",
    "sns.boxplot(x=data_quantile['comms_views']*100)\n",
    "plt.xlabel('Значения')\n",
    "plt.title('Коробчатая диаграмма распределения значений')\n",
    "plt.show()"
   ],
   "metadata": {
    "colab": {
     "base_uri": "https://localhost:8080/",
     "height": 1000
    },
    "id": "2_-Gp-PNMuIo",
    "outputId": "e56a7d21-6e1c-48d3-d06c-128922bf78de"
   },
   "execution_count": null,
   "outputs": []
  },
  {
   "cell_type": "code",
   "source": [
    "sns.histplot(data['forwards_views'], bins=5, kde=True)\n",
    "plt.xlabel('Значения')\n",
    "plt.ylabel('Частота')\n",
    "plt.title('Гистограмма распределения значений с KDE')\n",
    "plt.show()\n",
    "\n",
    "sns.kdeplot(data['forwards_views'], shade=True)\n",
    "plt.xlabel('Значения')\n",
    "plt.title('Диаграмма плотности распределения значений')\n",
    "plt.show()\n",
    "\n",
    "sns.boxplot(x=data['forwards_views'])\n",
    "plt.xlabel('Значения')\n",
    "plt.title('Коробчатая диаграмма распределения значений')\n",
    "plt.show()"
   ],
   "metadata": {
    "colab": {
     "base_uri": "https://localhost:8080/",
     "height": 1000
    },
    "id": "neagmcNZM8hG",
    "outputId": "bd78ea53-bc6d-44e7-e249-41554208d61a"
   },
   "execution_count": null,
   "outputs": []
  },
  {
   "cell_type": "code",
   "source": [
    "Q1 = data['forwards_views'].quantile(0.25)\n",
    "Q3 = data['forwards_views'].quantile(0.75)\n",
    "IQR = Q3 - Q1\n",
    "print(Q1, Q3, IQR)\n",
    "# Определение границ для выбросов\n",
    "lower_bound = Q1 - 1.5 * IQR\n",
    "upper_bound = Q3 + 1.5 * IQR\n",
    "\n",
    "data_quantile = data[(data['forwards_views'] >= lower_bound) & (data['forwards_views'] <= upper_bound)]\n",
    "data_quantile.info()"
   ],
   "metadata": {
    "colab": {
     "base_uri": "https://localhost:8080/"
    },
    "id": "GuECbRJuNb96",
    "outputId": "bd011ea0-e76e-4314-fec4-b382288652a1"
   },
   "execution_count": null,
   "outputs": []
  },
  {
   "cell_type": "code",
   "source": [
    "sns.histplot(data_quantile['forwards_views']*100, bins=5, kde=True)\n",
    "plt.xlabel('Значения')\n",
    "plt.ylabel('Частота')\n",
    "plt.title('Гистограмма распределения значений с KDE')\n",
    "plt.show()\n",
    "\n",
    "sns.kdeplot(data_quantile['forwards_views']*100, shade=True)\n",
    "plt.xlabel('Значения')\n",
    "plt.title('Диаграмма плотности распределения значений')\n",
    "plt.show()\n",
    "\n",
    "sns.boxplot(x=data_quantile['forwards_views']*100)\n",
    "plt.xlabel('Значения')\n",
    "plt.title('Коробчатая диаграмма распределения значений')\n",
    "plt.show()"
   ],
   "metadata": {
    "colab": {
     "base_uri": "https://localhost:8080/",
     "height": 1000
    },
    "id": "AdLeT5DzNgdQ",
    "outputId": "ff62192a-d215-4cc8-cf47-b85a95e8ee4c"
   },
   "execution_count": null,
   "outputs": []
  },
  {
   "cell_type": "code",
   "source": [
    "sns.histplot(data['reactions_views'], bins=5, kde=True)\n",
    "plt.xlabel('Значения')\n",
    "plt.ylabel('Частота')\n",
    "plt.title('Гистограмма распределения значений с KDE')\n",
    "plt.show()\n",
    "\n",
    "sns.kdeplot(data['reactions_views'], shade=True)\n",
    "plt.xlabel('Значения')\n",
    "plt.title('Диаграмма плотности распределения значений')\n",
    "plt.show()\n",
    "\n",
    "sns.boxplot(x=data['reactions_views'])\n",
    "plt.xlabel('Значения')\n",
    "plt.title('Коробчатая диаграмма распределения значений')\n",
    "plt.show()"
   ],
   "metadata": {
    "colab": {
     "base_uri": "https://localhost:8080/",
     "height": 1000
    },
    "id": "wTfIN4lZN1VK",
    "outputId": "516d71fe-efa1-48e7-f41b-62952b70c7d9"
   },
   "execution_count": null,
   "outputs": []
  },
  {
   "cell_type": "code",
   "source": [
    "Q1 = data['reactions_views'].quantile(0.25)\n",
    "Q3 = data['reactions_views'].quantile(0.75)\n",
    "IQR = Q3 - Q1\n",
    "print(Q1, Q3, IQR)\n",
    "# Определение границ для выбросов\n",
    "lower_bound = Q1 - 1.5 * IQR\n",
    "upper_bound = Q3 + 1.5 * IQR\n",
    "\n",
    "data_quantile = data[(data['reactions_views'] >= lower_bound) & (data['reactions_views'] <= upper_bound)]\n",
    "data_quantile.info()"
   ],
   "metadata": {
    "colab": {
     "base_uri": "https://localhost:8080/"
    },
    "id": "gPmtmRwVN11F",
    "outputId": "6482035b-a042-4307-aa28-59ec57fc6ecf"
   },
   "execution_count": null,
   "outputs": []
  },
  {
   "cell_type": "code",
   "source": [
    "sns.histplot(data_quantile['reactions_views']*100, bins=5, kde=True)\n",
    "plt.xlabel('Значения')\n",
    "plt.ylabel('Частота')\n",
    "plt.title('Гистограмма распределения значений с KDE')\n",
    "plt.show()\n",
    "\n",
    "sns.kdeplot(data_quantile['reactions_views']*100, shade=True)\n",
    "plt.xlabel('Значения')\n",
    "plt.title('Диаграмма плотности распределения значений')\n",
    "plt.show()\n",
    "\n",
    "sns.boxplot(x=data_quantile['reactions_views']*100)\n",
    "plt.xlabel('Значения')\n",
    "plt.title('Коробчатая диаграмма распределения значений')\n",
    "plt.show()"
   ],
   "metadata": {
    "colab": {
     "base_uri": "https://localhost:8080/",
     "height": 1000
    },
    "id": "_-htRex0N13h",
    "outputId": "4e13a402-7b03-409f-b216-ac02f195cbbd"
   },
   "execution_count": null,
   "outputs": []
  },
  {
   "cell_type": "markdown",
   "source": [
    "# Создание метрики\n"
   ],
   "metadata": {
    "id": "BX9o_h4bO8bL"
   }
  },
  {
   "cell_type": "code",
   "source": [
    "# Попробовал сделать таргет среднегармонческим,но слишком плохое выходит распределнеие -\n",
    "# сильно прекошенное\n",
    "data['harmonic'] = data.apply(lambda row: hmean([row['comms_views'], row['forwards_views'], row['reactions_views']]), axis=1)\n",
    "data.head()"
   ],
   "metadata": {
    "colab": {
     "base_uri": "https://localhost:8080/",
     "height": 486
    },
    "id": "Tg13gIInO7ti",
    "outputId": "21b0ee9b-da8b-4413-fe9a-f0e25fc0ba8f"
   },
   "execution_count": null,
   "outputs": []
  },
  {
   "cell_type": "code",
   "source": [
    "# Поэтому пока что будем брать среднее конверсии (пока работаю над учетом смайлов)\n",
    "data['mean'] = data[['comms_views', 'forwards_views', 'reactions_views']].mean(axis=1)\n",
    "data.head()"
   ],
   "metadata": {
    "colab": {
     "base_uri": "https://localhost:8080/",
     "height": 486
    },
    "id": "6yWlEKy-pa2a",
    "outputId": "a54857f5-6813-495f-e01b-f1ee57343206"
   },
   "execution_count": null,
   "outputs": []
  },
  {
   "cell_type": "markdown",
   "source": [
    "## Сохранение c основными метриками\n"
   ],
   "metadata": {
    "id": "px9GcmbgT0_9"
   }
  },
  {
   "cell_type": "code",
   "source": [
    "data.to_csv('data_with_harmonic_mean.csv', index=False)"
   ],
   "metadata": {
    "id": "UiExTyFyTyrk"
   },
   "execution_count": null,
   "outputs": []
  },
  {
   "cell_type": "markdown",
   "source": "# Манипуляции с таргетом",
   "metadata": {
    "id": "7mUkAidyt3z0"
   }
  },
  {
   "cell_type": "code",
   "source": [
    "data = pd.read_csv('data_with_harmonic_mean.csv', sep = ',', parse_dates=['date'], encoding = 'utf-8')\n",
    "data.head()"
   ],
   "metadata": {
    "colab": {
     "base_uri": "https://localhost:8080/",
     "height": 486
    },
    "id": "KHjO3nNPT8p5",
    "outputId": "e7af3013-94df-401e-f0e2-586e5a3c7bba"
   },
   "execution_count": null,
   "outputs": []
  },
  {
   "cell_type": "code",
   "source": [
    "\"\"\"\n",
    "\n",
    "Здесь я тестирую возможности преобразования таргета и\n",
    "просматриваю его реализацию.\n",
    "В итоге пришел к тому, что использую среднее значение конверсии,логарифмирую\n",
    "его и потом делаю преобразование Бокса-Кокса.\n",
    "Получил плюс минус равномернораспределенный таргет и преобразовал его в классы,\n",
    "перейдя от дискретного распределения с регрессией к классификации трех классов:\n",
    "Низкий интерес, средний и высокий.\n",
    "На практике видно, что у нас будет дисбаланс классов,\n",
    "потому что обычных постов подавляющее большинство, однако сам выбор разделения\n",
    "классов мне показался логичным - в жизни и правда мне так кажется и при ручном\n",
    "просмотре по субьективному мнению очень похожу на правду. В этом моменте может\n",
    "надо будет еще подумать что делать, но пока так.\n",
    "\n",
    "\"\"\""
   ],
   "metadata": {
    "colab": {
     "base_uri": "https://localhost:8080/",
     "height": 109
    },
    "id": "o6wM9pCSzkQd",
    "outputId": "fd335dd8-df21-4ba7-f38b-47ea55dbf6c4",
    "collapsed": true
   },
   "execution_count": null,
   "outputs": []
  },
  {
   "cell_type": "code",
   "source": [
    "data['harmonic'] = data['harmonic']*100\n",
    "data['mean'] = data['mean']*100\n",
    "\n",
    "data.drop(columns=['reactions', 'comments', 'views', 'reactions_views', 'comms_views', 'forwards_views', 'forwards'], inplace=True)\n",
    "data.head()\n"
   ],
   "metadata": {
    "colab": {
     "base_uri": "https://localhost:8080/",
     "height": 293
    },
    "id": "yF-xjilOTEsz",
    "outputId": "d99ca2fa-591a-4050-d6ef-a29f57f87d1c"
   },
   "execution_count": null,
   "outputs": []
  },
  {
   "cell_type": "code",
   "source": [
    "sns.histplot(data['mean'], bins=10, kde=True)\n",
    "plt.xlabel('Значения')\n",
    "plt.ylabel('Частота')\n",
    "plt.title('Гистограмма распределения значений с KDE')\n",
    "plt.show()"
   ],
   "metadata": {
    "colab": {
     "base_uri": "https://localhost:8080/",
     "height": 472
    },
    "id": "krn1thTEqDu0",
    "outputId": "a5a210ff-cd23-4507-91ac-257f6b9a21bf"
   },
   "execution_count": null,
   "outputs": []
  },
  {
   "cell_type": "code",
   "source": [
    "Q1 = data['mean'].quantile(0.25)\n",
    "Q3 = data['mean'].quantile(0.75)\n",
    "IQR = Q3 - Q1\n",
    "print(Q1, Q3, IQR)\n",
    "# Определение границ для выбросов\n",
    "lower_bound = Q1 - 1.5 * IQR\n",
    "upper_bound = Q3 + 1.5 * IQR\n",
    "\n",
    "data_quantile = data[(data['mean'] >= lower_bound) & (data['mean'] <= upper_bound)]\n",
    "data_quantile.info()"
   ],
   "metadata": {
    "colab": {
     "base_uri": "https://localhost:8080/"
    },
    "id": "k4DRxcJ_qbRG",
    "outputId": "c57f174a-ae73-48a5-e25e-53f58d90c954"
   },
   "execution_count": null,
   "outputs": []
  },
  {
   "cell_type": "code",
   "source": [
    "sns.histplot(data_quantile['mean'], bins=10, kde=True)\n",
    "plt.xlabel('Значения')\n",
    "plt.ylabel('Частота')\n",
    "plt.title('Гистограмма распределения значений с KDE')\n",
    "plt.show()\n"
   ],
   "metadata": {
    "colab": {
     "base_uri": "https://localhost:8080/",
     "height": 472
    },
    "id": "vdlaYUnnqqxw",
    "outputId": "d426c49b-772a-4a5f-e8c0-c793905aaea8"
   },
   "execution_count": null,
   "outputs": []
  },
  {
   "cell_type": "code",
   "source": [
    "sns.histplot(data['harmonic'], bins=10, kde=True)\n",
    "plt.xlabel('Значения')\n",
    "plt.ylabel('Частота')\n",
    "plt.title('Гистограмма распределения значений с KDE')\n",
    "plt.show()\n"
   ],
   "metadata": {
    "colab": {
     "base_uri": "https://localhost:8080/",
     "height": 472
    },
    "id": "3W_XapVhjI4F",
    "outputId": "c4ee5a1c-741d-4b32-c0cd-98a2f01b5e18"
   },
   "execution_count": null,
   "outputs": []
  },
  {
   "cell_type": "code",
   "source": [
    "Q1 = data['harmonic'].quantile(0.25)\n",
    "Q3 = data['harmonic'].quantile(0.75)\n",
    "IQR = Q3 - Q1\n",
    "print(Q1, Q3, IQR)\n",
    "# Определение границ для выбросов\n",
    "lower_bound = Q1 - 1.5 * IQR\n",
    "upper_bound = Q3 + 1.5 * IQR\n",
    "\n",
    "data_quantile = data[(data['harmonic'] >= lower_bound) & (data['harmonic'] <= upper_bound)]\n",
    "data_quantile.info()"
   ],
   "metadata": {
    "colab": {
     "base_uri": "https://localhost:8080/"
    },
    "id": "N9kmBiyiiuju",
    "outputId": "97576269-b437-488d-a86c-be9d41e8ef44"
   },
   "execution_count": null,
   "outputs": []
  },
  {
   "cell_type": "code",
   "source": [
    "sns.histplot(data_quantile['harmonic'], bins=10, kde=True)\n",
    "plt.xlabel('Значения')\n",
    "plt.ylabel('Частота')\n",
    "plt.title('Гистограмма распределения значений с KDE')\n",
    "plt.show()\n"
   ],
   "metadata": {
    "colab": {
     "base_uri": "https://localhost:8080/",
     "height": 472
    },
    "id": "yKOJuLXUidfT",
    "outputId": "c4c9ef27-d8cd-44eb-c53a-c74fedba6744"
   },
   "execution_count": null,
   "outputs": []
  },
  {
   "cell_type": "code",
   "source": [
    "data.describe()"
   ],
   "metadata": {
    "colab": {
     "base_uri": "https://localhost:8080/",
     "height": 300
    },
    "id": "6yc2ISe6jU4C",
    "outputId": "46fed4e0-3d11-41f8-b1cf-b50b268b86cc"
   },
   "execution_count": null,
   "outputs": []
  },
  {
   "cell_type": "code",
   "source": [
    "def add_epsilon_to_zero(series, epsilon=1e-10):\n",
    "    \"\"\"\n",
    "    Добавляет малое значение epsilon к нулевым элементам дял логарифмирования.\n",
    "    \"\"\"\n",
    "    return series.apply(lambda x: x + epsilon if x == 0 else x)\n"
   ],
   "metadata": {
    "id": "ZozJk4iBq5Mg"
   },
   "execution_count": null,
   "outputs": []
  },
  {
   "cell_type": "code",
   "source": [
    "data['target1'] = add_epsilon_to_zero(data['mean'])\n",
    "data['target2'] = add_epsilon_to_zero(data['harmonic'])\n"
   ],
   "metadata": {
    "id": "2npvW9pOrZmg"
   },
   "execution_count": null,
   "outputs": []
  },
  {
   "cell_type": "code",
   "source": [
    "data['target1'] = np.log1p(data['target1'])\n",
    "data['target2'] = np.log1p(data['target2'])\n",
    "\n",
    "data.describe()"
   ],
   "metadata": {
    "colab": {
     "base_uri": "https://localhost:8080/",
     "height": 300
    },
    "id": "oCLeNC6Omxbx",
    "outputId": "27356ed4-7cc5-4514-d7eb-f20ae5684c03"
   },
   "execution_count": null,
   "outputs": []
  },
  {
   "cell_type": "code",
   "source": [
    "sns.histplot(data['target1'], bins=10, kde=True)\n",
    "plt.xlabel('Значения')\n",
    "plt.ylabel('Частота')\n",
    "plt.title('Гистограмма распределения значений с KDE')\n",
    "plt.show()\n"
   ],
   "metadata": {
    "colab": {
     "base_uri": "https://localhost:8080/",
     "height": 472
    },
    "id": "6zAc5vxmm-4i",
    "outputId": "e8f8c490-4cfb-47d5-a1a2-0ecc49c75a0c"
   },
   "execution_count": null,
   "outputs": []
  },
  {
   "cell_type": "code",
   "source": [
    "sns.histplot(data['target2'], bins=10, kde=True)\n",
    "plt.xlabel('Значения')\n",
    "plt.ylabel('Частота')\n",
    "plt.title('Гистограмма распределения значений с KDE')\n",
    "plt.show()"
   ],
   "metadata": {
    "colab": {
     "base_uri": "https://localhost:8080/",
     "height": 472
    },
    "id": "fJhT-91UsAu4",
    "outputId": "546cf851-57fb-42a9-bc70-45bdbff6f888"
   },
   "execution_count": null,
   "outputs": []
  },
  {
   "cell_type": "code",
   "source": [
    "data['target11'], _ = boxcox(data['target1'])\n",
    "data['target22'], _ = boxcox(data['target2'])\n",
    "data.describe()"
   ],
   "metadata": {
    "colab": {
     "base_uri": "https://localhost:8080/",
     "height": 300
    },
    "id": "RRzmmlpVnI6E",
    "outputId": "78460ccf-02fb-42f8-f99f-21c7318e728d"
   },
   "execution_count": null,
   "outputs": []
  },
  {
   "cell_type": "code",
   "source": [
    "sns.histplot(data['target11'], bins=10, kde=True)\n",
    "plt.xlabel('Значения')\n",
    "plt.ylabel('Частота')\n",
    "plt.title('Гистограмма распределения значений с KDE')\n",
    "plt.show()"
   ],
   "metadata": {
    "colab": {
     "base_uri": "https://localhost:8080/",
     "height": 472
    },
    "id": "6YqB1IO8sRvy",
    "outputId": "0230b8ef-eeb0-4130-a6a8-86898ef8a484"
   },
   "execution_count": null,
   "outputs": []
  },
  {
   "cell_type": "code",
   "source": [
    "sns.histplot(data['target22'], bins=10, kde=True)\n",
    "plt.xlabel('Значения')\n",
    "plt.ylabel('Частота')\n",
    "plt.title('Гистограмма распределения значений с KDE')\n",
    "plt.show()"
   ],
   "metadata": {
    "colab": {
     "base_uri": "https://localhost:8080/",
     "height": 472
    },
    "id": "5w1NcEJj1M4V",
    "outputId": "a4a0b08c-ce08-4af6-88b5-ba2106803c4f"
   },
   "execution_count": null,
   "outputs": []
  },
  {
   "cell_type": "markdown",
   "source": [
    "Окончательно перешли к таргету по среднему значению"
   ],
   "metadata": {
    "id": "RUP_fCWy1O3G"
   }
  },
  {
   "cell_type": "code",
   "source": [
    "# Выбирал вручную\n",
    "thresholds = data['target11'].quantile([0.15, 0.66]).values\n",
    "thresholds"
   ],
   "metadata": {
    "colab": {
     "base_uri": "https://localhost:8080/"
    },
    "id": "hQ4y3AEkshoP",
    "outputId": "beb1841a-c7c6-467a-c754-4614b1d4f31d"
   },
   "execution_count": null,
   "outputs": []
  },
  {
   "cell_type": "code",
   "source": [
    "def classify(value):\n",
    "    if value <= thresholds[0]:\n",
    "        return 'низкий'\n",
    "    elif value <= thresholds[1]:\n",
    "        return 'средний'\n",
    "    else:\n",
    "        return 'высокий'\n",
    "\n",
    "data['class'] = data['target11'].apply(classify)\n",
    "data.head()"
   ],
   "metadata": {
    "colab": {
     "base_uri": "https://localhost:8080/",
     "height": 327
    },
    "id": "BJrzSVcuueQM",
    "outputId": "c5df1775-d4ee-4a00-f055-88321c27ddf7"
   },
   "execution_count": null,
   "outputs": []
  },
  {
   "cell_type": "code",
   "source": [
    "data.drop(columns=['subscribers', 'harmonic', 'mean', 'target1', 'target2', 'target11', 'target22'], inplace=True)\n",
    "data.head()"
   ],
   "metadata": {
    "colab": {
     "base_uri": "https://localhost:8080/",
     "height": 206
    },
    "id": "5Dt7OCQY1WEr",
    "outputId": "ad611f28-423f-44dc-b451-d5681151f08b"
   },
   "execution_count": null,
   "outputs": []
  },
  {
   "cell_type": "code",
   "source": [
    "data[(data['name']=='BetBoom Esports Dota 2') & (data['class']=='низкий')].head()"
   ],
   "metadata": {
    "colab": {
     "base_uri": "https://localhost:8080/",
     "height": 206
    },
    "id": "uFTpUT_ruqOb",
    "outputId": "0ed5351a-a808-4958-ed10-f533bab05d99"
   },
   "execution_count": null,
   "outputs": []
  },
  {
   "cell_type": "code",
   "source": [
    "data[(data['name']=='BetBoom Esports Dota 2') & (data['class']=='высокий')].head()"
   ],
   "metadata": {
    "colab": {
     "base_uri": "https://localhost:8080/",
     "height": 206
    },
    "id": "1oOVVqJPRkBf",
    "outputId": "762d7ff5-1d4f-454b-dd44-f76186ba1639"
   },
   "execution_count": null,
   "outputs": []
  },
  {
   "cell_type": "markdown",
   "source": [
    "## Сохранение с классами"
   ],
   "metadata": {
    "id": "CvA2R03hQy3D"
   }
  },
  {
   "cell_type": "code",
   "source": [
    "data.to_csv('data_with_class.csv', index=False)"
   ],
   "metadata": {
    "id": "z7nAPeFPQ3pM"
   },
   "execution_count": null,
   "outputs": []
  },
  {
   "cell_type": "code",
   "source": [
    "data = pd.read_csv('data_with_class.csv', sep = ',', parse_dates=['date'], encoding = 'utf-8')\n",
    "data.head()"
   ],
   "metadata": {
    "colab": {
     "base_uri": "https://localhost:8080/",
     "height": 206
    },
    "id": "bNPK1KYZHo4V",
    "outputId": "bd5baec9-dcc8-470e-8a03-4637dfac18cd"
   },
   "execution_count": null,
   "outputs": []
  },
  {
   "cell_type": "markdown",
   "source": [
    "# Clean text\n",
    "\n"
   ],
   "metadata": {
    "id": "lSkAXNJSHinp"
   }
  },
  {
   "cell_type": "code",
   "source": [
    "class Cleaner:\n",
    "    \"\"\"\n",
    "    Класс Cleaner предназначен для предварительной обработки текста\n",
    "    перед его анализом. Он включает в себя функции для удаления HTML-тегов,\n",
    "    URL, специальных символов, преобразования чисел и эмоджи в слова,\n",
    "    удаления стоп-слов и знаков препинания, а также лемматизации.\n",
    "\n",
    "    Methods:\n",
    "        clean_text(self, input_text): Очищает входной текст от различных\n",
    "        нежелательных элементов и приводит его к стандартному виду.\n",
    "\n",
    "        emojis_words(self, text): Преобразует эмоджи в слова, используя их\n",
    "         текстовое описание.\n",
    "\n",
    "    Example:\n",
    "        cleaner = Cleaner()\n",
    "        raw_text = \"Some raw text with HTML <html>...</html>,\n",
    "                    URLs http://example.com, and emojis 😊.\"\n",
    "        clean_text = cleaner.clean_text(raw_text)\n",
    "        print(clean_text)\n",
    "    \"\"\"\n",
    "\n",
    "    def __init__(self):\n",
    "        \"\"\"\n",
    "        Инициализирует экземпляр класса Cleaner,\n",
    "        загружая необходимые ресурсы для лемматизации и токенизации.\n",
    "        \"\"\"\n",
    "\n",
    "        self.model_lemmatizer = pymorphy2.MorphAnalyzer()\n",
    "        self.nlp = spacy.load(\"ru_core_news_sm\")\n",
    "\n",
    "    # Функция для очистки текста\n",
    "    def clean_text(self, input_text):\n",
    "        \"\"\"\n",
    "        Очищает входной текст от HTML-тегов, URL, эмоджи, специальных символов,\n",
    "        преобразует числа в слова, удаляет стоп-слова и знаки препинания,\n",
    "        и проводит лемматизацию.\n",
    "\n",
    "        Params:\n",
    "            input_text (str): Входной текст для очистки.\n",
    "\n",
    "        Exit:\n",
    "            str: Очищенный текст.\n",
    "        \"\"\"\n",
    "\n",
    "        # HTML-теги: первый шаг - удалить из входного текста все HTML-теги\n",
    "        clean_text = re.sub('<[^<]+?>', '', input_text)\n",
    "\n",
    "        # URL и ссылки: далее - удаляем из текста все URL и ссылки\n",
    "        clean_text = re.sub(r'http\\S+', '', clean_text)\n",
    "\n",
    "        # Эмоджи и эмотиконы: используем собственную функцию для преобразования эмоджи в текст\n",
    "        # Важно понимать эмоциональную окраску обрабатываемого текста\n",
    "        clean_text = self.emojis_words(clean_text)\n",
    "\n",
    "        # Приводим все входные данные к нижнему регистру\n",
    "        clean_text = clean_text.lower()\n",
    "\n",
    "        # Убираем все пробелы\n",
    "        # Так как все данные теперь представлены словами - удалим пробелы\n",
    "        clean_text = re.sub('\\s+', ' ', clean_text)\n",
    "\n",
    "        # Убираем специальные символы: избавляемся от всего, что не является \"словами\"\n",
    "        clean_text = re.sub('[^A-Za-zА-Яа-я0-9\\s]', '', clean_text)\n",
    "\n",
    "        # Записываем числа прописью: 100 превращается в \"сто\" (для компьютера)\n",
    "        clean_text = self.replace_numbers_with_words(clean_text)\n",
    "\n",
    "        # Стоп-слова: удаление стоп-слов - это стандартная практика очистки текстов\n",
    "        # Лемматизируем каждое слово\n",
    "        stop_words_ru = set(stopwords.words('russian'))\n",
    "        stop_words_en = set(ENGLISH_STOP_WORDS)\n",
    "        all_stop_words = stop_words_en.union(stop_words_ru)\n",
    "        tokens = self.nlp(clean_text)\n",
    "        tokens = [token.lemma_ for token in tokens if token not in all_stop_words]\n",
    "        clean_text = ' '.join(tokens)\n",
    "\n",
    "        # Знаки препинания: далее - удаляем из текста все знаки препинания\n",
    "        clean_text = re.sub(r'[^\\w\\s]', '', clean_text)\n",
    "\n",
    "        # clean_text = ' '.join([self.model_lemmatizer.parse(word)[0].normal_form for word in clean_text.split()])\n",
    "\n",
    "        # И наконец - возвращаем очищенный текст\n",
    "        return clean_text\n",
    "\n",
    "    # Функция для преобразования чисел в слова\n",
    "    def replace_numbers_with_words(self, text):\n",
    "        \"\"\"\n",
    "        Преобразует числа в тексте в их словесные эквиваленты.\n",
    "\n",
    "        Params:\n",
    "            text (str): Текст для преобразования чисел.\n",
    "\n",
    "        Exit:\n",
    "            str: Текст с преобразованными числами.\n",
    "        \"\"\"\n",
    "        # Паттерн для нахождения чисел\n",
    "        number_pattern = r'\\b\\d+\\b'\n",
    "\n",
    "        # Нахождение эквивалента числу в словесной форме с помощью модуля num2words\n",
    "        def replace(match):\n",
    "            number = int(match.group(0))\n",
    "\n",
    "            return num2words(number, lang='ru')\n",
    "\n",
    "        return re.sub(number_pattern, replace, text)\n",
    "\n",
    "    # Функция для преобразования эмоджи в слова\n",
    "    def emojis_words(self, text):\n",
    "        \"\"\"\n",
    "        Преобразует эмоджи в тексте в их словесные описания.\n",
    "\n",
    "        Params:\n",
    "            text (str): Текст для преобразования эмоджи.\n",
    "\n",
    "        Exit:\n",
    "            str: Текст с преобразованными эмоджи.\n",
    "        \"\"\"\n",
    "        # Модуль emoji: преобразование эмоджи в их словесные описания\n",
    "        clean_text = emoji.demojize(text, delimiters=(\" \", \" \"))\n",
    "\n",
    "        # Редактирование текста путём замены \":\" и\" _\", а так же - путём добавления пробела между отдельными словами\n",
    "        clean_text = clean_text.replace(\":\", \"\").replace(\"_\", \" \")\n",
    "\n",
    "        return clean_text"
   ],
   "metadata": {
    "id": "WbkVdXGzV4wU"
   },
   "execution_count": null,
   "outputs": []
  },
  {
   "cell_type": "code",
   "source": [
    "cleaner = Cleaner()\n",
    "data['ctext'] = data['text'].apply(cleaner.clean_text)"
   ],
   "metadata": {
    "id": "UHDnedT9fd-G"
   },
   "execution_count": null,
   "outputs": []
  },
  {
   "cell_type": "code",
   "source": [
    "data[['ctext','text']]"
   ],
   "metadata": {
    "colab": {
     "base_uri": "https://localhost:8080/",
     "height": 423
    },
    "id": "t0wvDobvh2cC",
    "outputId": "efb223a7-fe0b-430d-e697-cdb49d74d42d"
   },
   "execution_count": null,
   "outputs": []
  },
  {
   "cell_type": "markdown",
   "source": [
    "## Сохранение очищенного текста"
   ],
   "metadata": {
    "id": "N4WTDN21qqpg"
   }
  },
  {
   "cell_type": "code",
   "source": [
    "data.to_csv('data_ctext.csv', index=False)"
   ],
   "metadata": {
    "id": "47MakoYMiEUF"
   },
   "execution_count": null,
   "outputs": []
  },
  {
   "cell_type": "markdown",
   "source": "# Text (topic modeling)\n",
   "metadata": {
    "id": "BSiUKFHcYHKV"
   }
  },
  {
   "cell_type": "code",
   "source": [
    "data = pd.read_csv('data_ctext.csv', sep = ',', parse_dates=['date'], encoding = 'utf-8')\n",
    "data.head()"
   ],
   "metadata": {
    "colab": {
     "base_uri": "https://localhost:8080/",
     "height": 293
    },
    "id": "OgnpGa44iT53",
    "outputId": "c9136cca-551e-4e8b-e588-d025eecd7f6c"
   },
   "execution_count": null,
   "outputs": []
  },
  {
   "cell_type": "code",
   "source": [
    "vectorizer_model = CountVectorizer()\n",
    "topic_model = BERTopic(vectorizer_model=vectorizer_model, language=\"multilingual\")"
   ],
   "metadata": {
    "id": "s6H8kxwhSxOu"
   },
   "execution_count": null,
   "outputs": []
  },
  {
   "cell_type": "code",
   "source": [
    "data.info()"
   ],
   "metadata": {
    "colab": {
     "base_uri": "https://localhost:8080/"
    },
    "id": "sNGR07iYnDzj",
    "outputId": "1d8bffff-8b38-48d5-ad52-e9db330112a1"
   },
   "execution_count": null,
   "outputs": []
  },
  {
   "cell_type": "code",
   "source": [
    "data[data['ctext'].isna()]"
   ],
   "metadata": {
    "colab": {
     "base_uri": "https://localhost:8080/",
     "height": 143
    },
    "id": "5d-ITJ_3neyE",
    "outputId": "0efcba90-7241-4e27-c4fb-87043f8354f4"
   },
   "execution_count": null,
   "outputs": []
  },
  {
   "cell_type": "code",
   "source": [
    "data = data.dropna(subset='ctext')\n",
    "data.info()"
   ],
   "metadata": {
    "colab": {
     "base_uri": "https://localhost:8080/"
    },
    "id": "IwGAo-t5nmHD",
    "outputId": "f80b879a-6065-413f-c94b-122dc24c2f21"
   },
   "execution_count": null,
   "outputs": []
  },
  {
   "cell_type": "code",
   "source": [
    "topics, probs = topic_model.fit_transform(data['ctext'])"
   ],
   "metadata": {
    "id": "J24yZ6ZcS_vo"
   },
   "execution_count": null,
   "outputs": []
  },
  {
   "cell_type": "code",
   "source": [
    "topic_model.visualize_topics()"
   ],
   "metadata": {
    "colab": {
     "base_uri": "https://localhost:8080/",
     "height": 667
    },
    "id": "KzQUclaeitHl",
    "outputId": "50d66b54-eccc-4639-e10d-a33117f041fc"
   },
   "execution_count": null,
   "outputs": []
  },
  {
   "cell_type": "code",
   "source": [
    "data['topic'] = topics\n",
    "data.head()"
   ],
   "metadata": {
    "colab": {
     "base_uri": "https://localhost:8080/",
     "height": 293
    },
    "id": "Fpad8xw1Vrya",
    "outputId": "b6fe53d5-d795-4fbe-ed90-e4b984ab3af4"
   },
   "execution_count": null,
   "outputs": []
  },
  {
   "cell_type": "code",
   "source": [
    "data[data['topic'] == -1]"
   ],
   "metadata": {
    "colab": {
     "base_uri": "https://localhost:8080/",
     "height": 597
    },
    "id": "MkcDZhFxV2T7",
    "outputId": "80535455-b482-476b-dccb-f99747c2118e"
   },
   "execution_count": null,
   "outputs": []
  },
  {
   "cell_type": "markdown",
   "source": [
    "## Сохранение после topic modeling"
   ],
   "metadata": {
    "id": "Jcau4I3Lfxex"
   }
  },
  {
   "cell_type": "code",
   "source": [
    "data.to_csv('data_with_topics.csv', index=False)"
   ],
   "metadata": {
    "id": "Z15zBVSzfvQM"
   },
   "execution_count": null,
   "outputs": []
  },
  {
   "cell_type": "markdown",
   "source": [
    "# TF-IDF"
   ],
   "metadata": {
    "id": "anG7S72FqbhW"
   }
  },
  {
   "cell_type": "code",
   "source": [
    "data = pd.read_csv('data_with_topics.csv', sep = ',', parse_dates=['date'], encoding = 'utf-8')\n",
    "data.head()"
   ],
   "metadata": {
    "colab": {
     "base_uri": "https://localhost:8080/",
     "height": 293
    },
    "id": "Ca7GhKQdq5j8",
    "outputId": "8fe19e77-7b4f-4436-ee7a-f392b259ccad"
   },
   "execution_count": null,
   "outputs": []
  },
  {
   "cell_type": "code",
   "source": [
    "data = data[['emoji', 'ctext', 'topic', 'class']]\n",
    "data.head()"
   ],
   "metadata": {
    "colab": {
     "base_uri": "https://localhost:8080/",
     "height": 206
    },
    "id": "GO35Ytj4q-V5",
    "outputId": "5700d4c1-5a5b-491c-bbdd-5ab55a72fb4f"
   },
   "execution_count": null,
   "outputs": []
  },
  {
   "cell_type": "code",
   "source": [
    "tfidf_vectorizer = TfidfVectorizer(max_features=500, dtype=np.float32)\n",
    "tfidf_matrix = tfidf_vectorizer.fit_transform(data['ctext'])\n",
    "tfidf_scores = tfidf_matrix.toarray()\n",
    "pca = PCA(n_components=10, random_state=random_state)\n",
    "pca_tfidf = pd.DataFrame(pca.fit_transform(tfidf_scores))"
   ],
   "metadata": {
    "id": "D2WeeghrrT4q"
   },
   "execution_count": null,
   "outputs": []
  },
  {
   "cell_type": "code",
   "source": [
    "data_tfidf_pca = pd.concat([data, pca_tfidf], axis=1)\n",
    "data_tfidf_pca.head()"
   ],
   "metadata": {
    "colab": {
     "base_uri": "https://localhost:8080/",
     "height": 293
    },
    "id": "smRcg478r4e5",
    "outputId": "aff10f4e-8b99-49e6-cf58-d54616279147"
   },
   "execution_count": null,
   "outputs": []
  },
  {
   "cell_type": "code",
   "source": [
    "data_for_classification = data_tfidf_pca[[0, 1, 2, 3, 4, 5, 6, 7, 8, 9, 'topic', 'class']]\n",
    "data_for_classification.head()"
   ],
   "metadata": {
    "colab": {
     "base_uri": "https://localhost:8080/",
     "height": 206
    },
    "id": "6ojLerDXsgAf",
    "outputId": "e6c4eadc-2ac7-4742-a9e3-ebd7bf805571"
   },
   "execution_count": null,
   "outputs": []
  },
  {
   "cell_type": "markdown",
   "source": [
    "## Сохранение после tf-idf"
   ],
   "metadata": {
    "id": "DhWaoWX9tK5C"
   }
  },
  {
   "cell_type": "code",
   "source": [
    "data_for_classification.to_csv('data_for_classification.csv', index=False)"
   ],
   "metadata": {
    "id": "lUOfRmaLsQSW"
   },
   "execution_count": null,
   "outputs": []
  },
  {
   "cell_type": "markdown",
   "source": [
    "# Classification\n"
   ],
   "metadata": {
    "id": "iA4g7GdQtckh"
   }
  },
  {
   "cell_type": "markdown",
   "source": [
    " Сравнил несколько методов, XBoost дал лучший результат, для улучшения модели будут проводиться эксперименты с предобработкой данных и вытаскиванием фичей из текста, а также улучшение самой модели."
   ],
   "metadata": {
    "id": "D6svgXl7xiuS"
   }
  },
  {
   "cell_type": "code",
   "source": [
    "data = pd.read_csv('data_for_classification.csv', sep = ',', encoding = 'utf-8')\n",
    "data.head()"
   ],
   "metadata": {
    "colab": {
     "base_uri": "https://localhost:8080/",
     "height": 206
    },
    "id": "DAfNzvN_tGip",
    "outputId": "d5958ad3-ea6b-4765-9265-ea6cd7d47365"
   },
   "execution_count": null,
   "outputs": []
  },
  {
   "cell_type": "code",
   "source": [
    "X = data.drop(['class'], axis=1)\n",
    "y = data['class']\n",
    "\n",
    "scaler = StandardScaler()\n",
    "X = scaler.fit_transform(X)\n",
    "le = LabelEncoder()\n",
    "y = le.fit_transform(y)\n",
    "\n",
    "X_train, X_test, y_train, y_test = train_test_split(X, y,\n",
    "                                                    test_size=0.2,\n",
    "                                                    random_state=random_state\n",
    "                                                    )\n"
   ],
   "metadata": {
    "id": "UBvG7pb9uehg"
   },
   "execution_count": null,
   "outputs": []
  },
  {
   "cell_type": "markdown",
   "source": [
    "## Logistic Regression"
   ],
   "metadata": {
    "id": "UH0CFj20uGO2"
   }
  },
  {
   "cell_type": "code",
   "source": [
    "model = LogisticRegression()\n",
    "model.fit(X_train, y_train)\n",
    "y_pred = model.predict(X_test)"
   ],
   "metadata": {
    "id": "GV1AG3cRuuXP"
   },
   "execution_count": null,
   "outputs": []
  },
  {
   "cell_type": "code",
   "source": [
    "print(\"Accuracy:\", accuracy_score(y_test, y_pred))\n",
    "print(\"Classification Report:\")\n",
    "print(classification_report(y_test, y_pred))"
   ],
   "metadata": {
    "colab": {
     "base_uri": "https://localhost:8080/"
    },
    "id": "6JkjAm1UwctO",
    "outputId": "c14607b2-847c-4770-e963-4e8e669a13e8"
   },
   "execution_count": null,
   "outputs": []
  },
  {
   "cell_type": "markdown",
   "source": [
    "## SVM"
   ],
   "metadata": {
    "id": "R73TBWiku3YQ"
   }
  },
  {
   "cell_type": "code",
   "source": [
    "model = SVC()\n",
    "model.fit(X_train, y_train)\n",
    "y_pred = model.predict(X_test)"
   ],
   "metadata": {
    "id": "Vaed4KtOu4JC"
   },
   "execution_count": null,
   "outputs": []
  },
  {
   "cell_type": "code",
   "source": [
    "print(\"Accuracy:\", accuracy_score(y_test, y_pred))\n",
    "print(\"Classification Report:\")\n",
    "print(classification_report(y_test, y_pred))"
   ],
   "metadata": {
    "colab": {
     "base_uri": "https://localhost:8080/"
    },
    "id": "olz7zuM7wqWD",
    "outputId": "9bf8f208-853a-4b4c-95c3-51e0172dbc63"
   },
   "execution_count": null,
   "outputs": []
  },
  {
   "cell_type": "markdown",
   "source": [
    "## Decision Trees"
   ],
   "metadata": {
    "id": "QROUGFbDws6q"
   }
  },
  {
   "cell_type": "code",
   "source": [
    "model = DecisionTreeClassifier()\n",
    "model.fit(X_train, y_train)\n",
    "y_pred = model.predict(X_test)"
   ],
   "metadata": {
    "id": "aTM9CrSHwsmV"
   },
   "execution_count": null,
   "outputs": []
  },
  {
   "cell_type": "code",
   "source": [
    "print(\"Accuracy:\", accuracy_score(y_test, y_pred))\n",
    "print(\"Classification Report:\")\n",
    "print(classification_report(y_test, y_pred))"
   ],
   "metadata": {
    "colab": {
     "base_uri": "https://localhost:8080/"
    },
    "id": "xnu1FAMRwxLA",
    "outputId": "28092cd5-d742-47d6-db79-55670d97b1e0"
   },
   "execution_count": null,
   "outputs": []
  },
  {
   "cell_type": "markdown",
   "source": [
    "## Random Forest"
   ],
   "metadata": {
    "id": "lQHRCQgZwzhD"
   }
  },
  {
   "cell_type": "code",
   "source": [
    "model = RandomForestClassifier()\n",
    "model.fit(X_train, y_train)\n",
    "y_pred = model.predict(X_test)"
   ],
   "metadata": {
    "id": "BYK7LFA1w303"
   },
   "execution_count": null,
   "outputs": []
  },
  {
   "cell_type": "code",
   "source": [
    "print(\"Accuracy:\", accuracy_score(y_test, y_pred))\n",
    "print(\"Classification Report:\")\n",
    "print(classification_report(y_test, y_pred))"
   ],
   "metadata": {
    "colab": {
     "base_uri": "https://localhost:8080/"
    },
    "id": "KbggG7gGw34R",
    "outputId": "bf685733-a54e-43e5-f472-f9986bb504f2"
   },
   "execution_count": null,
   "outputs": []
  },
  {
   "cell_type": "markdown",
   "source": [
    "## Gradient Boosting"
   ],
   "metadata": {
    "id": "tpT5q3V0xBI9"
   }
  },
  {
   "cell_type": "code",
   "source": [
    "model = GradientBoostingClassifier()\n",
    "model.fit(X_train, y_train)\n",
    "y_pred = model.predict(X_test)"
   ],
   "metadata": {
    "id": "N9POFhCQxEqv"
   },
   "execution_count": null,
   "outputs": []
  },
  {
   "cell_type": "code",
   "source": [
    "print(\"Accuracy:\", accuracy_score(y_test, y_pred))\n",
    "print(\"Classification Report:\")\n",
    "print(classification_report(y_test, y_pred))"
   ],
   "metadata": {
    "colab": {
     "base_uri": "https://localhost:8080/"
    },
    "id": "UltexdSzxEtD",
    "outputId": "9547793d-f8a1-4fc1-8f5e-25c6a2207710"
   },
   "execution_count": null,
   "outputs": []
  },
  {
   "cell_type": "markdown",
   "source": [
    "## XGBoost"
   ],
   "metadata": {
    "id": "dYubkPYqxKWZ"
   }
  },
  {
   "cell_type": "code",
   "source": [
    "model = XGBClassifier(use_label_encoder=False, eval_metric='mlogloss')\n",
    "model.fit(X_train, y_train)\n",
    "y_pred = model.predict(X_test)"
   ],
   "metadata": {
    "id": "8oJCKh3xxKDW"
   },
   "execution_count": null,
   "outputs": []
  },
  {
   "cell_type": "code",
   "source": [
    "print(\"Accuracy:\", accuracy_score(y_test, y_pred))\n",
    "print(\"Classification Report:\")\n",
    "print(classification_report(y_test, y_pred))"
   ],
   "metadata": {
    "colab": {
     "base_uri": "https://localhost:8080/"
    },
    "id": "wZ68On_axU4M",
    "outputId": "4febd0fa-e62c-4467-cf8a-9f1293b3901f"
   },
   "execution_count": null,
   "outputs": []
  },
  {
   "cell_type": "markdown",
   "source": [
    "# Emojis (Beta)"
   ],
   "metadata": {
    "id": "6H7MuAgghITV"
   }
  },
  {
   "cell_type": "code",
   "source": [
    "good_emojis = set([\n",
    "    '😀', '😃', '😄', '😁', '😆', '😊', '😇', '🙂', '🙃', '😍',\n",
    "    '😘', '😗', '😙', '😚', '😋', '😜', '😝', '😛', '🤑',\n",
    "    '🤗', '🤩', '😎', '🤓', '😺', '😸', '😹', '😻', '😼', '😽'\n",
    "])\n",
    "\n",
    "bad_emojis = set([\n",
    "    '😞', '😠', '😡', '😢', '😭', '😖', '😣', '😫', '😩', '😤',\n",
    "    '😮', '😱', '😨', '😰', '😥', '😓', '😧', '😵', '😷', '🤒',\n",
    "    '🤕', '🤢', '🤮', '🤧', '😪', '😴', '😵', '😲', '🤯'\n",
    "])\n",
    "\n",
    "def classify_emojis(text):\n",
    "    text_emojis = set(char for char in text if char in emoji.UNICODE_EMOJI['en'])\n",
    "    good_count = len(text_emojis & good_emojis)\n",
    "    bad_count = len(text_emojis & bad_emojis)\n",
    "    if good_count > bad_count:\n",
    "        return 'good'\n",
    "    elif bad_count > good_count:\n",
    "        return 'bad'\n",
    "    else:\n",
    "        return 'neutral'"
   ],
   "metadata": {
    "id": "N1hd7l8ZVGLY"
   },
   "execution_count": null,
   "outputs": []
  },
  {
   "cell_type": "code",
   "source": [
    "def emoji_(text):\n",
    "    text_emojis = emoji.distinct_emoji_list(text)\n",
    "    return text_emojis"
   ],
   "metadata": {
    "collapsed": true,
    "id": "69sWMLiHVVEx"
   },
   "execution_count": null,
   "outputs": []
  },
  {
   "cell_type": "code",
   "source": [
    "emojis_in_txt = data['text'].apply(emoji_)\n",
    "emojis_in_txt\n"
   ],
   "metadata": {
    "id": "yh0lgsRJVVQN",
    "colab": {
     "base_uri": "https://localhost:8080/"
    },
    "outputId": "3bd919bd-ba7c-418b-c50f-87aea7e2b20e"
   },
   "execution_count": null,
   "outputs": []
  },
  {
   "cell_type": "code",
   "source": [
    "all_emojis_in_txt = sum(emojis_in_txt.tolist(), [])\n",
    "len(all_emojis_in_txt)\n"
   ],
   "metadata": {
    "colab": {
     "base_uri": "https://localhost:8080/"
    },
    "id": "LzCwXPMlWasb",
    "outputId": "ae6e5425-1d94-495c-8285-cb59cfe6c345"
   },
   "execution_count": null,
   "outputs": []
  },
  {
   "cell_type": "code",
   "source": [
    "all_unic_emoji_in_txt = set(all_emojis_in_txt)\n",
    "len(all_unic_emoji_in_txt)"
   ],
   "metadata": {
    "collapsed": true,
    "colab": {
     "base_uri": "https://localhost:8080/"
    },
    "id": "oKIU8qsWYgSc",
    "outputId": "7898aa17-c64e-4d62-a504-00ceb48794d0"
   },
   "execution_count": null,
   "outputs": []
  },
  {
   "cell_type": "code",
   "source": [],
   "metadata": {
    "id": "InHoKJKOcSt3"
   },
   "execution_count": null,
   "outputs": []
  },
  {
   "cell_type": "code",
   "source": [
    "emojis = data['emoji'].apply(emoji_)\n",
    "emojis\n"
   ],
   "metadata": {
    "colab": {
     "base_uri": "https://localhost:8080/"
    },
    "id": "-VzigjXxXu0x",
    "outputId": "89278b55-4bb6-49a6-d0c5-95d5465c1e83"
   },
   "execution_count": null,
   "outputs": []
  },
  {
   "cell_type": "code",
   "source": [
    "all_emojis = sum(emojis.tolist(), [])\n",
    "len(all_emojis)"
   ],
   "metadata": {
    "colab": {
     "base_uri": "https://localhost:8080/"
    },
    "id": "XSSwJbyIY6WF",
    "outputId": "5e47bfaa-59dd-4e5e-d7c5-660d15941fb6"
   },
   "execution_count": null,
   "outputs": []
  },
  {
   "cell_type": "code",
   "source": [
    "all_unic_emoji = set(all_emojis)\n",
    "len(all_unic_emoji)"
   ],
   "metadata": {
    "colab": {
     "base_uri": "https://localhost:8080/"
    },
    "id": "k0yR7kYAY8lC",
    "outputId": "e2c3ec2a-624c-4ef8-f03b-02038cbfba24"
   },
   "execution_count": null,
   "outputs": []
  },
  {
   "cell_type": "code",
   "source": [
    "intersection_emojis = all_unic_emoji & all_unic_emoji_in_txt\n",
    "len(intersection_emojis)"
   ],
   "metadata": {
    "colab": {
     "base_uri": "https://localhost:8080/"
    },
    "id": "3XEBSuYZhcib",
    "outputId": "48db969f-8b3e-42d0-cf1e-120bf883d78b"
   },
   "execution_count": null,
   "outputs": []
  },
  {
   "cell_type": "code",
   "source": [
    "all_unic_emoji_list = list(all_unic_emoji)\n",
    "all_unic_emoji_list[:10]"
   ],
   "metadata": {
    "colab": {
     "base_uri": "https://localhost:8080/"
    },
    "id": "p38ikZouY_JU",
    "outputId": "bb0bf106-55dc-4ebd-aeca-a54ecedfe717"
   },
   "execution_count": null,
   "outputs": []
  },
  {
   "cell_type": "code",
   "source": [
    "analyzer = SentimentIntensityAnalyzer()\n",
    "\n",
    "def analyze_sentiment_emoji(emoji_char):\n",
    "    sentiment_score = analyzer.polarity_scores(emoji.demojize(emoji_char))\n",
    "    return sentiment_score"
   ],
   "metadata": {
    "id": "IQnM2yf6ZSbT"
   },
   "execution_count": null,
   "outputs": []
  },
  {
   "cell_type": "code",
   "source": [
    "analyze_sentiment_emoji('❤‍🔥')"
   ],
   "metadata": {
    "colab": {
     "base_uri": "https://localhost:8080/"
    },
    "id": "qoD5x7uacumY",
    "outputId": "5bc7f917-5a48-46d1-e9a0-8ae4fadbfca1"
   },
   "execution_count": null,
   "outputs": []
  },
  {
   "cell_type": "code",
   "source": [
    "for i in all_unic_emoji_list:\n",
    "    print(i, analyze_sentiment_emoji(i))"
   ],
   "metadata": {
    "colab": {
     "base_uri": "https://localhost:8080/"
    },
    "collapsed": true,
    "id": "hJSRa6BLdVhm",
    "outputId": "1f9b080c-e054-4fd6-acd2-9e18cb40554b"
   },
   "execution_count": null,
   "outputs": []
  },
  {
   "cell_type": "code",
   "source": [
    "all_unic_emoji_list_in_str = []\n",
    "for i in all_unic_emoji_list:\n",
    "    all_unic_emoji_list_in_str.append(emoji.demojize(i))\n",
    "all_unic_emoji_list_in_str"
   ],
   "metadata": {
    "colab": {
     "base_uri": "https://localhost:8080/"
    },
    "collapsed": true,
    "id": "e8jKz4oKej-j",
    "outputId": "3d588851-abf2-4f27-b421-be9bd073b9da"
   },
   "execution_count": null,
   "outputs": []
  },
  {
   "cell_type": "code",
   "source": [
    "def analyze_sentiment(emoji_char):\n",
    "    sentiment_score = analyzer.polarity_scores(emoji_char)\n",
    "    return sentiment_score"
   ],
   "metadata": {
    "id": "GYol20AweyyK"
   },
   "execution_count": null,
   "outputs": []
  },
  {
   "cell_type": "code",
   "source": [
    "for i in all_unic_emoji_list_in_str:\n",
    "    print(i, analyze_sentiment(i))"
   ],
   "metadata": {
    "colab": {
     "base_uri": "https://localhost:8080/"
    },
    "collapsed": true,
    "id": "uqjQV15Ze2KI",
    "outputId": "f0f4fb2a-8d43-4037-d68e-1af24f655ddc"
   },
   "execution_count": null,
   "outputs": []
  },
  {
   "cell_type": "code",
   "source": [
    "!pip install afinn"
   ],
   "metadata": {
    "collapsed": true,
    "colab": {
     "base_uri": "https://localhost:8080/"
    },
    "id": "EpK65TizfQ1T",
    "outputId": "f132240c-57b5-40f3-cdf5-2018057f3aa1"
   },
   "execution_count": null,
   "outputs": []
  },
  {
   "cell_type": "code",
   "source": [
    "from afinn import Afinn\n",
    "afinn = Afinn()"
   ],
   "metadata": {
    "id": "uUgdGam-fU1O"
   },
   "execution_count": null,
   "outputs": []
  },
  {
   "cell_type": "code",
   "source": [
    "def analyze_sentiment_afinn(emoji_char):\n",
    "    sentiment_score = afinn.score(emoji.demojize(emoji_char))\n",
    "    return sentiment_score"
   ],
   "metadata": {
    "id": "q4q8Bu2IfX3q"
   },
   "execution_count": null,
   "outputs": []
  },
  {
   "cell_type": "code",
   "source": [
    "all_unic_emoji_list_semantic = [\n",
    "    -1,\n",
    "    0,\n",
    "    0,\n",
    "    0,\n",
    "    1, #5\n",
    "    0,\n",
    "    -1,\n",
    "    0,\n",
    "    0,\n",
    "    1, #10\n",
    "    0,\n",
    "    1,\n",
    "    -1,\n",
    "    1,\n",
    "    1, #15\n",
    "    -1,\n",
    "    -1,\n",
    "    0,\n",
    "    1,\n",
    "    1, #20\n",
    "    0,\n",
    "    0,\n",
    "    0,\n",
    "    1,\n",
    "    0, #25\n",
    "    0,\n",
    "    1,\n",
    "    1,\n",
    "    -1,\n",
    "    1, #30\n",
    "    -1,\n",
    "    1,\n",
    "    1,\n",
    "    1,\n",
    "    1, #35\n",
    "    1,\n",
    "    1,\n",
    "    -1,\n",
    "    0,\n",
    "    0, #40\n",
    "    -1,\n",
    "    1,\n",
    "    1,\n",
    "    0,\n",
    "    -1, #45\n",
    "    0,\n",
    "    1,\n",
    "    0,\n",
    "    1,\n",
    "    0, #50\n",
    "    1,\n",
    "    0,\n",
    "    1,\n",
    "    0,\n",
    "    -1, #55\n",
    "    0,\n",
    "    -1,\n",
    "    -1,\n",
    "    1,\n",
    "    0, #60\n",
    "    1,\n",
    "    0,\n",
    "    0,\n",
    "    0,\n",
    "    0, #65\n",
    "    1,\n",
    "    0,\n",
    "    1,\n",
    "    1,\n",
    "    0, #70\n",
    "    0,\n",
    "    -1,\n",
    "    0\n",
    "]"
   ],
   "metadata": {
    "id": "IC_V2IzGjU4n"
   },
   "execution_count": null,
   "outputs": []
  },
  {
   "cell_type": "code",
   "source": [
    "#РАЗМЕТИЛ ВРУЧНУЮ\n",
    "reactions_semantic = dict(zip(all_unic_emoji_list, all_unic_emoji_list_semantic))\n",
    "reactions_semantic"
   ],
   "metadata": {
    "colab": {
     "base_uri": "https://localhost:8080/"
    },
    "id": "GSfrf75xm_CE",
    "outputId": "8f88b171-8ea9-472a-a9a5-2b1fba428e87"
   },
   "execution_count": null,
   "outputs": []
  },
  {
   "cell_type": "code",
   "source": [
    "k = 1\n",
    "for i in all_unic_emoji_list:\n",
    "    print(k, i, analyze_sentiment_afinn(i))\n",
    "    k+=1"
   ],
   "metadata": {
    "colab": {
     "base_uri": "https://localhost:8080/"
    },
    "id": "YipH1oZQfgCW",
    "outputId": "85817247-a716-4f17-9e72-9e227b54885f"
   },
   "execution_count": null,
   "outputs": []
  },
  {
   "cell_type": "code",
   "source": [
    "data['emoji'][200:240]"
   ],
   "metadata": {
    "colab": {
     "base_uri": "https://localhost:8080/"
    },
    "id": "m_PU0tWfkrd2",
    "outputId": "d124635e-f989-48af-b79d-f147726a727d"
   },
   "execution_count": null,
   "outputs": []
  },
  {
   "cell_type": "code",
   "source": [
    "emoji.is_emoji('❤\\u200d🔥')"
   ],
   "metadata": {
    "colab": {
     "base_uri": "https://localhost:8080/"
    },
    "id": "iLfs2AQWndZE",
    "outputId": "6b42d916-c5f3-4af9-d9a0-e2731b4a4744"
   },
   "execution_count": null,
   "outputs": []
  },
  {
   "cell_type": "markdown",
   "source": [
    "# Summ (beta)"
   ],
   "metadata": {
    "id": "wpIOwnCvDYzH"
   }
  },
  {
   "cell_type": "code",
   "source": [],
   "metadata": {
    "id": "qosGwatjDh_C"
   },
   "execution_count": null,
   "outputs": []
  },
  {
   "cell_type": "code",
   "source": [
    "\n",
    "\n",
    "# Инициализация пайплайна\n",
    "pipe = pipeline('summarization', model='d0rj/ru-mbart-large-summ')\n",
    "\n",
    "\n",
    "\n"
   ],
   "metadata": {
    "id": "4cTvReoTnyDQ",
    "colab": {
     "base_uri": "https://localhost:8080/",
     "height": 370,
     "referenced_widgets": [
      "45579b0625134ca09a92149b272da2d1",
      "7cef8f66b1d944b68a2c19ca22474a87",
      "4eb84cf65f1a4765bb091f8bd6867f88",
      "3314be01cc1743668a3e32639c6ab354",
      "ec100bd764774b6199f1c212add178b0",
      "55342ada972e4077ac7434a14d48bee8",
      "9fd0798d5bfb44e489d55b12381c3c14",
      "7146c355f88b476b951ea8d4b1c5e858",
      "4dbe152c05544874be9d4d6a55f597e1",
      "10733a260e594a7b9938b6b9ee4bb005",
      "b98f4828519f41c2b148a5cb5feb52df",
      "ed95c2b096b94600bccf4b76af7d066c",
      "e9fd98a215bd4148b721751d33b7c69b",
      "a13d8a2010fa4de792b67e9b1f65db67",
      "2862ed26647d4db1b3e1f29ed5d72738",
      "24ea319c8b684ffbade68cffb1c6fd7d",
      "a3e35a5bf78a498bb653d5ebc32e63b5",
      "df960a606a74407db6fb14bc20baec82",
      "abd6ec3e3ced4172ad2d858847b3de4c",
      "67eed6241c7b4cda85bcb69bef8591a9",
      "2d8542239357480fa10ff47799d47680",
      "908220902f4942c18c22be5994deefc1",
      "83c1481390cf4359b9438f32e45e7483",
      "fd8bfd88f40f4f41b40275a48db337d9",
      "7d790f4e5612421896f6e823fff7d9dd",
      "6541ebf2947b4f89b3aca3a3c2dd2fb4",
      "53c6e91a9b2d469aaf9a0b21a4471e5f",
      "886638aa6b734efaab7df299b04382aa",
      "68bfad7a714d4995b36bd7a780f2d8d2",
      "3c4fe6e5f1b74dacb20b82c6cf62ab64",
      "6aa86879f64441619d478fc478acd3d7",
      "01009a9246be4545bcd62321d729f41b",
      "5f8b91a4147d415cb15d16523d9d677a",
      "6f9f7cb8342845ceb06decf1920e7ae6",
      "33137303e9f44f30849cdac0f16c5e72",
      "2a4852334c5c48ca80b95016944ec868",
      "ff769f98d6604f67b3220321dfd2ee2e",
      "e87e9d41b9a945bbb58b19713d81d863",
      "c8b7caeb9a4542a491ccac3ee59a4f38",
      "f133636abc8f4292ad1e1476d4112491",
      "9ad45c0481f548d4aa05e209f0664e4f",
      "0c6b69911c2349f2a60ee98be0f5787f",
      "84c7ad77587c4db795131789a3008bbf",
      "3951d6e0f4924138bedf16f0e7283bb9",
      "9eb163d8c745431887f251922ce9561e",
      "cae36a118d8540648c4bff5af836755d",
      "35aa4846642c4bd4ba7dccfaa83709b7",
      "64e6b5cc62d349f3a6b982ffb89c95fd",
      "b3a9b89668a14c508f48359db74df845",
      "17f0180f16d44b8f83a21c8263f7310c",
      "d9fbd45c56cd43d39584cc1ffd5451ee",
      "d288a83b29c342eb99d68b43157bd02e",
      "71ae7f2c0953414aa8c90ed6ccaca2e7",
      "2ac9ce8ae3fc42c4a6a6cd8bbe69217d",
      "c06f0afdc0ae491aad4de8a08c5dafae",
      "8e73a5143adb4eb6bc1d725fd6ee789d",
      "d46a998e99b34941b254e4d1afc07d14",
      "4c9aff0b8a7441d893717a83a9fd5b80",
      "58bd6f33a63e4fa8872a92cf0797ae3d",
      "49f3397f4ea748ba8cc9949f76948476",
      "d0d1c491091542be85bcc7db4c974c81",
      "9fbcebdcd74a4b22b362b04f5b0ba142",
      "8bee41ff774f411badf1826ca15bc7c0",
      "917a43d0551242a690a2aefb99e5b644",
      "f89b0ea22e944a77b4e1ed26e5aa0908",
      "65c50c388d1044dfae797e7b81310eda",
      "bb745cfb45074b40b3c29071018b5906",
      "1da4cb2dd22a440ab49a948b0b9a4cdc",
      "d672cab6845c445194a28509d9748219",
      "90408c4bee0140f18418c8dd375318ea",
      "674c741203f249cf8a6731f46ff9a838",
      "ee8f881e02994934899ab271f637cdac",
      "3253a681356c4a9ebc3cd2f8c42aa2e8",
      "8baf659fb958429da0d0b17fb280189b",
      "348ed38b0026466780f37c067e48d272",
      "a58aca21c93741d388d3e767aae8d62f",
      "3a72c08223d941fda2f8034f7d609975"
     ]
    },
    "outputId": "5b798a26-ec7b-4910-d5d8-3e45da5a7a65"
   },
   "execution_count": null,
   "outputs": []
  },
  {
   "cell_type": "code",
   "source": [
    "def summarize_posts(posts, model, tokenizer, max_length=150, min_length=50):\n",
    "    individual_summaries = []\n",
    "    for post in posts:\n",
    "        summary = model(post, max_length=max_length, min_length=min_length, do_sample=False)\n",
    "        individual_summaries.append(summary[0]['summary_text'])\n",
    "    combined_text = ' '.join(individual_summaries)\n",
    "    final_summary = model(combined_text, max_length=max_length, min_length=min_length, do_sample=False)\n",
    "    return final_summary[0]['summary_text']\n"
   ],
   "metadata": {
    "id": "m310M-BRFINN"
   },
   "execution_count": null,
   "outputs": []
  },
  {
   "cell_type": "code",
   "source": [
    "# Пример постов\n",
    "posts = [\n",
    "    \"Сегодня в мире произошло множество событий. В Японии произошло землетрясение магнитудой 6.5, не вызвавшее серьёзных разрушений, но повлиявшее на транспортное сообщение. В США президент подписал новый законопроект о здравоохранении, который направлен на снижение цен на лекарства. В России начался чемпионат по хоккею с участием 16 команд.\",\n",
    "    \"Компания XYZ опубликовала квартальный отчёт, показывающий увеличение прибыли на 20% по сравнению с прошлым годом. Основные драйверы роста включают успешные маркетинговые кампании и увеличение продаж в онлайн-сегменте. В следующем квартале компания планирует расширить своё присутствие в Европе.\",\n",
    "    \"Google анонсировала новую версию своей операционной системы Android, которая включает множество новых функций, таких как улучшенная безопасность, интеграция с IoT-устройствами и поддержка 5G. Ожидается, что обновление станет доступным в конце года.\",\n",
    "    \"Психологи утверждают, что для достижения успеха важно придерживаться режима дня и ставить реалистичные цели. Начните с маленьких шагов, планируйте свой день и записывайте достижения. Постепенно вы сможете повысить свою продуктивность и достичь больших целей.\"\n",
    "]\n",
    "\n",
    "# Суммаризация постов\n",
    "final_summary = summarize_posts(posts, pipe, None)  # None для tokenizer так как он уже встроен в модель\n",
    "print(\"Final Summary:\")\n",
    "print(final_summary)"
   ],
   "metadata": {
    "id": "fS8oVqFIFKJA"
   },
   "execution_count": null,
   "outputs": []
  }
 ]
}
